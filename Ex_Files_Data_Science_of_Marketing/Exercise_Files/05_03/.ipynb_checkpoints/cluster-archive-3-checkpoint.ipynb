{
 "cells": [
  {
   "cell_type": "code",
   "execution_count": 5,
   "metadata": {
    "collapsed": true
   },
   "outputs": [],
   "source": [
    "# step 1 - bring your packages in\n",
    "# so in script i could first do an overview of this and then on the walk through i can explain them a little bit\n",
    "\n",
    "import numpy as np\n",
    "import matplotlib.pyplot as plt\n",
    "from matplotlib import style\n",
    "style.use(\"ggplot\")\n",
    "from sklearn.cluster import KMeans\n",
    "\n",
    "%matplotlib inline"
   ]
  },
  {
   "cell_type": "code",
   "execution_count": 6,
   "metadata": {
    "collapsed": true
   },
   "outputs": [],
   "source": [
    "# bring some data in with values for x and values for y\n",
    "# i took a sample of my data from cluster-python.csv\n",
    "# b3 14 - 23\n",
    "# cta 14 - 23\n",
    "# so in the script i could explain what we have here and then they could type in those values (maybe i present only 5 values?)\n",
    "\n",
    "x = [16, 25, 18, 22, 5, 10, 21, 4, 30, 25]\n",
    "y = [11, 7, 9, 16, 16, 15, 16, 7, 17, 5]"
   ]
  },
  {
   "cell_type": "code",
   "execution_count": 7,
   "metadata": {
    "collapsed": false
   },
   "outputs": [
    {
     "data": {
      "image/png": "[encoded data removed]",
      "text/plain": [
       "<matplotlib.figure.Figure at 0x10bc516d8>"
      ]
     },
     "metadata": {},
     "output_type": "display_data"
    }
   ],
   "source": [
    "# plot that data and visualize it\n",
    "plt.scatter(x,y)\n",
    "plt.show()\n",
    "\n",
    "# so in the script i can explain what we're doing and the fact that this is an exploratory step \n",
    "# and could explain the difference between Flat Clustering (which this is)(where the scientist tells the machine how many categories to cluster the data into.)\n",
    "# and Hierarchical where the machine is allowed to decide how many clusters to create based on its own algorithms."
   ]
  },
  {
   "cell_type": "code",
   "execution_count": 8,
   "metadata": {
    "collapsed": true
   },
   "outputs": [],
   "source": [
    "# take that same data and organize it in an array \n",
    "# the script can explain the need to present the kmeans model one data set \n",
    "\n",
    "X = np.array([[16, 11],\n",
    "              [25, 7],\n",
    "              [18, 9],\n",
    "              [22, 16],\n",
    "              [5, 16],\n",
    "              [10, 15],\n",
    "              [21, 16],\n",
    "              [4, 7],\n",
    "              [30, 17],\n",
    "              [25, 5]])"
   ]
  },
  {
   "cell_type": "code",
   "execution_count": 9,
   "metadata": {
    "collapsed": false
   },
   "outputs": [
    {
     "name": "stdout",
     "output_type": "stream",
     "text": [
      "[[ 25.           6.        ]\n",
      " [  7.5         15.5       ]\n",
      " [ 24.33333333  16.33333333]\n",
      " [ 17.          10.        ]\n",
      " [  4.           7.        ]]\n",
      "[3 0 3 2 1 1 2 4 2 0]\n"
     ]
    }
   ],
   "source": [
    "# tell kmeans to organize the data on 5 clusters - that's what it looked like to me\n",
    "# there are some algorithms that will decide this for you \n",
    "kmeans = KMeans(n_clusters=5)\n",
    "\n",
    "# apply kmeans to that array \n",
    "kmeans.fit(X)\n",
    "\n",
    "centroids = kmeans.cluster_centers_\n",
    "labels = kmeans.labels_\n",
    "\n",
    "print(centroids)\n",
    "print(labels)"
   ]
  },
  {
   "cell_type": "code",
   "execution_count": 10,
   "metadata": {
    "collapsed": false
   },
   "outputs": [
    {
     "name": "stdout",
     "output_type": "stream",
     "text": [
      "coordinate: [16 11] label: 3\n",
      "coordinate: [25  7] label: 0\n",
      "coordinate: [18  9] label: 3\n",
      "coordinate: [22 16] label: 2\n",
      "coordinate: [ 5 16] label: 1\n",
      "coordinate: [10 15] label: 1\n",
      "coordinate: [21 16] label: 2\n",
      "coordinate: [4 7] label: 4\n",
      "coordinate: [30 17] label: 2\n",
      "coordinate: [25  5] label: 0\n"
     ]
    },
    {
     "data": {
      "image/png": "[encoded data removed]",
      "text/plain": [
       "<matplotlib.figure.Figure at 0x110962c88>"
      ]
     },
     "metadata": {},
     "output_type": "display_data"
    }
   ],
   "source": [
    "colors = [\"g.\",\"r.\",\"red\",\"y.\",\"c.\"]\n",
    "\n",
    "for i in range(len(X)):\n",
    "    print(\"coordinate:\",X[i], \"label:\", labels[i])\n",
    "    plt.plot(X[i][0], X[i][1], colors[labels[i]], markersize = 10)\n",
    "\n",
    "\n",
    "plt.scatter(centroids[:, 0],centroids[:, 1], marker = \"x\", s=150, linewidths = 5, zorder = 10)\n",
    "\n",
    "plt.show()"
   ]
  },
  {
   "cell_type": "markdown",
   "metadata": {
    "collapsed": true
   },
   "source": [
    "------\n",
    "\n",
    "get and show the data"
   ]
  },
  {
   "cell_type": "code",
   "execution_count": 11,
   "metadata": {
    "collapsed": true
   },
   "outputs": [],
   "source": [
    "import pandas as pd\n",
    "import matplotlib.pyplot as plt\n",
    "%matplotlib inline\n",
    "\n",
    "df1=pd.read_csv(\"~/Documents/devel/dsom/6-cluster/data/cluster-python.csv\")"
   ]
  },
  {
   "cell_type": "code",
   "execution_count": 12,
   "metadata": {
    "collapsed": true
   },
   "outputs": [],
   "source": [
    "df1.columns = [\"customer\", \"b1\", \"b2\", \"b3\", \"bp\", \"cta\", \"age\", \"sex\"]"
   ]
  },
  {
   "cell_type": "code",
   "execution_count": 13,
   "metadata": {
    "collapsed": false
   },
   "outputs": [
    {
     "data": {
      "text/html": [
       "<div>\n",
       "<table border=\"1\" class=\"dataframe\">\n",
       "  <thead>\n",
       "    <tr style=\"text-align: right;\">\n",
       "      <th></th>\n",
       "      <th>customer</th>\n",
       "      <th>b1</th>\n",
       "      <th>b2</th>\n",
       "      <th>b3</th>\n",
       "      <th>bp</th>\n",
       "      <th>cta</th>\n",
       "      <th>age</th>\n",
       "      <th>sex</th>\n",
       "    </tr>\n",
       "  </thead>\n",
       "  <tbody>\n",
       "    <tr>\n",
       "      <th>0</th>\n",
       "      <td>nisl@adipiscingelit.org</td>\n",
       "      <td>2</td>\n",
       "      <td>1</td>\n",
       "      <td>16</td>\n",
       "      <td>12</td>\n",
       "      <td>9</td>\n",
       "      <td>48</td>\n",
       "      <td>1</td>\n",
       "    </tr>\n",
       "    <tr>\n",
       "      <th>1</th>\n",
       "      <td>dui.Fusce.diam@non.edu</td>\n",
       "      <td>1</td>\n",
       "      <td>0</td>\n",
       "      <td>25</td>\n",
       "      <td>8</td>\n",
       "      <td>6</td>\n",
       "      <td>41</td>\n",
       "      <td>2</td>\n",
       "    </tr>\n",
       "    <tr>\n",
       "      <th>2</th>\n",
       "      <td>nisl.Maecenas@vitaeorciPhasellus.org</td>\n",
       "      <td>2</td>\n",
       "      <td>2</td>\n",
       "      <td>23</td>\n",
       "      <td>11</td>\n",
       "      <td>4</td>\n",
       "      <td>50</td>\n",
       "      <td>1</td>\n",
       "    </tr>\n",
       "    <tr>\n",
       "      <th>3</th>\n",
       "      <td>justo.nec@Aenean.edu</td>\n",
       "      <td>3</td>\n",
       "      <td>1</td>\n",
       "      <td>4</td>\n",
       "      <td>12</td>\n",
       "      <td>11</td>\n",
       "      <td>34</td>\n",
       "      <td>2</td>\n",
       "    </tr>\n",
       "    <tr>\n",
       "      <th>4</th>\n",
       "      <td>neque.Morbi.quis@AeneanmassaInteger.ca</td>\n",
       "      <td>2</td>\n",
       "      <td>2</td>\n",
       "      <td>29</td>\n",
       "      <td>10</td>\n",
       "      <td>2</td>\n",
       "      <td>59</td>\n",
       "      <td>1</td>\n",
       "    </tr>\n",
       "  </tbody>\n",
       "</table>\n",
       "</div>"
      ],
      "text/plain": [
       "                                 customer  b1  b2  b3  bp  cta  age  sex\n",
       "0                 nisl@adipiscingelit.org   2   1  16  12    9   48    1\n",
       "1                  dui.Fusce.diam@non.edu   1   0  25   8    6   41    2\n",
       "2    nisl.Maecenas@vitaeorciPhasellus.org   2   2  23  11    4   50    1\n",
       "3                    justo.nec@Aenean.edu   3   1   4  12   11   34    2\n",
       "4  neque.Morbi.quis@AeneanmassaInteger.ca   2   2  29  10    2   59    1"
      ]
     },
     "execution_count": 13,
     "metadata": {},
     "output_type": "execute_result"
    }
   ],
   "source": [
    "df1.head()"
   ]
  },
  {
   "cell_type": "code",
   "execution_count": 14,
   "metadata": {
    "collapsed": false
   },
   "outputs": [
    {
     "data": {
      "image/png": "[encoded data removed]",
      "text/plain": [
       "<matplotlib.figure.Figure at 0x1193b7ef0>"
      ]
     },
     "metadata": {},
     "output_type": "display_data"
    }
   ],
   "source": [
    "plt.scatter(df1.b1,df1.b3)\n",
    "plt.show()"
   ]
  },
  {
   "cell_type": "markdown",
   "metadata": {},
   "source": [
    "could use this as an example for why this kind of data isn't a good fit for this type of analysis"
   ]
  },
  {
   "cell_type": "code",
   "execution_count": 15,
   "metadata": {
    "collapsed": false
   },
   "outputs": [
    {
     "data": {
      "image/png": "[encoded data removed]",
      "text/plain": [
       "<matplotlib.figure.Figure at 0x1193c2ac8>"
      ]
     },
     "metadata": {},
     "output_type": "display_data"
    }
   ],
   "source": [
    "plt.hist(df1.b1)\n",
    "plt.title(\"foo\")\n",
    "plt.xlabel(\"x label\")\n",
    "plt.ylabel(\"y label\")\n",
    "plt.show()"
   ]
  },
  {
   "cell_type": "markdown",
   "metadata": {},
   "source": [
    "can use this to show how we assess the shape of the data"
   ]
  },
  {
   "cell_type": "code",
   "execution_count": 16,
   "metadata": {
    "collapsed": false
   },
   "outputs": [
    {
     "data": {
      "image/png": "[encoded data removed]",
      "text/plain": [
       "<matplotlib.figure.Figure at 0x112d84f98>"
      ]
     },
     "metadata": {},
     "output_type": "display_data"
    }
   ],
   "source": [
    "plt.hist(df1.bp)\n",
    "plt.show()\n",
    "# b1\tb2\tb3\tbp\tcta\tage\tsex"
   ]
  },
  {
   "cell_type": "markdown",
   "metadata": {},
   "source": [
    "so b3 looks feasible, as does bp and cta and age "
   ]
  },
  {
   "cell_type": "code",
   "execution_count": 17,
   "metadata": {
    "collapsed": false
   },
   "outputs": [
    {
     "data": {
      "image/png": "[encoded data removed]",
      "text/plain": [
       "<matplotlib.figure.Figure at 0x119403b38>"
      ]
     },
     "metadata": {},
     "output_type": "display_data"
    }
   ],
   "source": [
    "plt.scatter(df1.b3,df1.cta)\n",
    "plt.show()"
   ]
  },
  {
   "cell_type": "markdown",
   "metadata": {},
   "source": [
    "ok, that's the best looking pattern of the group so go with it"
   ]
  },
  {
   "cell_type": "code",
   "execution_count": 18,
   "metadata": {
    "collapsed": false
   },
   "outputs": [
    {
     "ename": "DataError",
     "evalue": "No numeric types to aggregate",
     "output_type": "error",
     "traceback": [
      "\u001b[0;31m---------------------------------------------------------------------------\u001b[0m",
      "\u001b[0;31mDataError\u001b[0m                                 Traceback (most recent call last)",
      "\u001b[0;32m<ipython-input-18-60a426a43ea9>\u001b[0m in \u001b[0;36m<module>\u001b[0;34m()\u001b[0m\n\u001b[1;32m      1\u001b[0m \u001b[0;31m# matrix = df.pivot_table(index=['customer_name'], columns=['offer_id'], values='n')\u001b[0m\u001b[0;34m\u001b[0m\u001b[0;34m\u001b[0m\u001b[0m\n\u001b[0;32m----> 2\u001b[0;31m \u001b[0mmatrix\u001b[0m \u001b[0;34m=\u001b[0m \u001b[0mdf1\u001b[0m\u001b[0;34m.\u001b[0m\u001b[0mpivot_table\u001b[0m\u001b[0;34m(\u001b[0m\u001b[0mindex\u001b[0m\u001b[0;34m=\u001b[0m\u001b[0;34m[\u001b[0m\u001b[0;34m'customer'\u001b[0m\u001b[0;34m]\u001b[0m\u001b[0;34m,\u001b[0m \u001b[0mcolumns\u001b[0m\u001b[0;34m=\u001b[0m\u001b[0;34m[\u001b[0m\u001b[0;34m'b1'\u001b[0m\u001b[0;34m]\u001b[0m\u001b[0;34m,\u001b[0m \u001b[0mvalues\u001b[0m\u001b[0;34m=\u001b[0m\u001b[0;34m'n'\u001b[0m\u001b[0;34m)\u001b[0m\u001b[0;34m\u001b[0m\u001b[0m\n\u001b[0m",
      "\u001b[0;32m/Users/Shepp/anaconda3/lib/python3.5/site-packages/pandas/tools/pivot.py\u001b[0m in \u001b[0;36mpivot_table\u001b[0;34m(data, values, index, columns, aggfunc, fill_value, margins, dropna, margins_name)\u001b[0m\n\u001b[1;32m    119\u001b[0m \u001b[0;34m\u001b[0m\u001b[0m\n\u001b[1;32m    120\u001b[0m     \u001b[0mgrouped\u001b[0m \u001b[0;34m=\u001b[0m \u001b[0mdata\u001b[0m\u001b[0;34m.\u001b[0m\u001b[0mgroupby\u001b[0m\u001b[0;34m(\u001b[0m\u001b[0mkeys\u001b[0m\u001b[0;34m)\u001b[0m\u001b[0;34m\u001b[0m\u001b[0m\n\u001b[0;32m--> 121\u001b[0;31m     \u001b[0magged\u001b[0m \u001b[0;34m=\u001b[0m \u001b[0mgrouped\u001b[0m\u001b[0;34m.\u001b[0m\u001b[0magg\u001b[0m\u001b[0;34m(\u001b[0m\u001b[0maggfunc\u001b[0m\u001b[0;34m)\u001b[0m\u001b[0;34m\u001b[0m\u001b[0m\n\u001b[0m\u001b[1;32m    122\u001b[0m \u001b[0;34m\u001b[0m\u001b[0m\n\u001b[1;32m    123\u001b[0m     \u001b[0mtable\u001b[0m \u001b[0;34m=\u001b[0m \u001b[0magged\u001b[0m\u001b[0;34m\u001b[0m\u001b[0m\n",
      "\u001b[0;32m/Users/Shepp/anaconda3/lib/python3.5/site-packages/pandas/core/groupby.py\u001b[0m in \u001b[0;36maggregate\u001b[0;34m(self, arg, *args, **kwargs)\u001b[0m\n\u001b[1;32m   3595\u001b[0m     \u001b[0;34m@\u001b[0m\u001b[0mAppender\u001b[0m\u001b[0;34m(\u001b[0m\u001b[0mSelectionMixin\u001b[0m\u001b[0;34m.\u001b[0m\u001b[0m_agg_doc\u001b[0m\u001b[0;34m)\u001b[0m\u001b[0;34m\u001b[0m\u001b[0m\n\u001b[1;32m   3596\u001b[0m     \u001b[0;32mdef\u001b[0m \u001b[0maggregate\u001b[0m\u001b[0;34m(\u001b[0m\u001b[0mself\u001b[0m\u001b[0;34m,\u001b[0m \u001b[0marg\u001b[0m\u001b[0;34m,\u001b[0m \u001b[0;34m*\u001b[0m\u001b[0margs\u001b[0m\u001b[0;34m,\u001b[0m \u001b[0;34m**\u001b[0m\u001b[0mkwargs\u001b[0m\u001b[0;34m)\u001b[0m\u001b[0;34m:\u001b[0m\u001b[0;34m\u001b[0m\u001b[0m\n\u001b[0;32m-> 3597\u001b[0;31m         \u001b[0;32mreturn\u001b[0m \u001b[0msuper\u001b[0m\u001b[0;34m(\u001b[0m\u001b[0mDataFrameGroupBy\u001b[0m\u001b[0;34m,\u001b[0m \u001b[0mself\u001b[0m\u001b[0;34m)\u001b[0m\u001b[0;34m.\u001b[0m\u001b[0maggregate\u001b[0m\u001b[0;34m(\u001b[0m\u001b[0marg\u001b[0m\u001b[0;34m,\u001b[0m \u001b[0;34m*\u001b[0m\u001b[0margs\u001b[0m\u001b[0;34m,\u001b[0m \u001b[0;34m**\u001b[0m\u001b[0mkwargs\u001b[0m\u001b[0;34m)\u001b[0m\u001b[0;34m\u001b[0m\u001b[0m\n\u001b[0m\u001b[1;32m   3598\u001b[0m \u001b[0;34m\u001b[0m\u001b[0m\n\u001b[1;32m   3599\u001b[0m     \u001b[0magg\u001b[0m \u001b[0;34m=\u001b[0m \u001b[0maggregate\u001b[0m\u001b[0;34m\u001b[0m\u001b[0m\n",
      "\u001b[0;32m/Users/Shepp/anaconda3/lib/python3.5/site-packages/pandas/core/groupby.py\u001b[0m in \u001b[0;36maggregate\u001b[0;34m(self, arg, *args, **kwargs)\u001b[0m\n\u001b[1;32m   3112\u001b[0m \u001b[0;34m\u001b[0m\u001b[0m\n\u001b[1;32m   3113\u001b[0m         \u001b[0m_level\u001b[0m \u001b[0;34m=\u001b[0m \u001b[0mkwargs\u001b[0m\u001b[0;34m.\u001b[0m\u001b[0mpop\u001b[0m\u001b[0;34m(\u001b[0m\u001b[0;34m'_level'\u001b[0m\u001b[0;34m,\u001b[0m \u001b[0;32mNone\u001b[0m\u001b[0;34m)\u001b[0m\u001b[0;34m\u001b[0m\u001b[0m\n\u001b[0;32m-> 3114\u001b[0;31m         \u001b[0mresult\u001b[0m\u001b[0;34m,\u001b[0m \u001b[0mhow\u001b[0m \u001b[0;34m=\u001b[0m \u001b[0mself\u001b[0m\u001b[0;34m.\u001b[0m\u001b[0m_aggregate\u001b[0m\u001b[0;34m(\u001b[0m\u001b[0marg\u001b[0m\u001b[0;34m,\u001b[0m \u001b[0m_level\u001b[0m\u001b[0;34m=\u001b[0m\u001b[0m_level\u001b[0m\u001b[0;34m,\u001b[0m \u001b[0;34m*\u001b[0m\u001b[0margs\u001b[0m\u001b[0;34m,\u001b[0m \u001b[0;34m**\u001b[0m\u001b[0mkwargs\u001b[0m\u001b[0;34m)\u001b[0m\u001b[0;34m\u001b[0m\u001b[0m\n\u001b[0m\u001b[1;32m   3115\u001b[0m         \u001b[0;32mif\u001b[0m \u001b[0mhow\u001b[0m \u001b[0;32mis\u001b[0m \u001b[0;32mNone\u001b[0m\u001b[0;34m:\u001b[0m\u001b[0;34m\u001b[0m\u001b[0m\n\u001b[1;32m   3116\u001b[0m             \u001b[0;32mreturn\u001b[0m \u001b[0mresult\u001b[0m\u001b[0;34m\u001b[0m\u001b[0m\n",
      "\u001b[0;32m/Users/Shepp/anaconda3/lib/python3.5/site-packages/pandas/core/base.py\u001b[0m in \u001b[0;36m_aggregate\u001b[0;34m(self, arg, *args, **kwargs)\u001b[0m\n\u001b[1;32m    426\u001b[0m         \u001b[0m_level\u001b[0m \u001b[0;34m=\u001b[0m \u001b[0mkwargs\u001b[0m\u001b[0;34m.\u001b[0m\u001b[0mpop\u001b[0m\u001b[0;34m(\u001b[0m\u001b[0;34m'_level'\u001b[0m\u001b[0;34m,\u001b[0m \u001b[0;32mNone\u001b[0m\u001b[0;34m)\u001b[0m\u001b[0;34m\u001b[0m\u001b[0m\n\u001b[1;32m    427\u001b[0m         \u001b[0;32mif\u001b[0m \u001b[0misinstance\u001b[0m\u001b[0;34m(\u001b[0m\u001b[0marg\u001b[0m\u001b[0;34m,\u001b[0m \u001b[0mcompat\u001b[0m\u001b[0;34m.\u001b[0m\u001b[0mstring_types\u001b[0m\u001b[0;34m)\u001b[0m\u001b[0;34m:\u001b[0m\u001b[0;34m\u001b[0m\u001b[0m\n\u001b[0;32m--> 428\u001b[0;31m             \u001b[0;32mreturn\u001b[0m \u001b[0mgetattr\u001b[0m\u001b[0;34m(\u001b[0m\u001b[0mself\u001b[0m\u001b[0;34m,\u001b[0m \u001b[0marg\u001b[0m\u001b[0;34m)\u001b[0m\u001b[0;34m(\u001b[0m\u001b[0;34m*\u001b[0m\u001b[0margs\u001b[0m\u001b[0;34m,\u001b[0m \u001b[0;34m**\u001b[0m\u001b[0mkwargs\u001b[0m\u001b[0;34m)\u001b[0m\u001b[0;34m,\u001b[0m \u001b[0;32mNone\u001b[0m\u001b[0;34m\u001b[0m\u001b[0m\n\u001b[0m\u001b[1;32m    429\u001b[0m \u001b[0;34m\u001b[0m\u001b[0m\n\u001b[1;32m    430\u001b[0m         \u001b[0;32mif\u001b[0m \u001b[0misinstance\u001b[0m\u001b[0;34m(\u001b[0m\u001b[0marg\u001b[0m\u001b[0;34m,\u001b[0m \u001b[0mdict\u001b[0m\u001b[0;34m)\u001b[0m\u001b[0;34m:\u001b[0m\u001b[0;34m\u001b[0m\u001b[0m\n",
      "\u001b[0;32m/Users/Shepp/anaconda3/lib/python3.5/site-packages/pandas/core/groupby.py\u001b[0m in \u001b[0;36mmean\u001b[0;34m(self)\u001b[0m\n\u001b[1;32m    962\u001b[0m         \"\"\"\n\u001b[1;32m    963\u001b[0m         \u001b[0;32mtry\u001b[0m\u001b[0;34m:\u001b[0m\u001b[0;34m\u001b[0m\u001b[0m\n\u001b[0;32m--> 964\u001b[0;31m             \u001b[0;32mreturn\u001b[0m \u001b[0mself\u001b[0m\u001b[0;34m.\u001b[0m\u001b[0m_cython_agg_general\u001b[0m\u001b[0;34m(\u001b[0m\u001b[0;34m'mean'\u001b[0m\u001b[0;34m)\u001b[0m\u001b[0;34m\u001b[0m\u001b[0m\n\u001b[0m\u001b[1;32m    965\u001b[0m         \u001b[0;32mexcept\u001b[0m \u001b[0mGroupByError\u001b[0m\u001b[0;34m:\u001b[0m\u001b[0;34m\u001b[0m\u001b[0m\n\u001b[1;32m    966\u001b[0m             \u001b[0;32mraise\u001b[0m\u001b[0;34m\u001b[0m\u001b[0m\n",
      "\u001b[0;32m/Users/Shepp/anaconda3/lib/python3.5/site-packages/pandas/core/groupby.py\u001b[0m in \u001b[0;36m_cython_agg_general\u001b[0;34m(self, how, numeric_only)\u001b[0m\n\u001b[1;32m   3046\u001b[0m     \u001b[0;32mdef\u001b[0m \u001b[0m_cython_agg_general\u001b[0m\u001b[0;34m(\u001b[0m\u001b[0mself\u001b[0m\u001b[0;34m,\u001b[0m \u001b[0mhow\u001b[0m\u001b[0;34m,\u001b[0m \u001b[0mnumeric_only\u001b[0m\u001b[0;34m=\u001b[0m\u001b[0;32mTrue\u001b[0m\u001b[0;34m)\u001b[0m\u001b[0;34m:\u001b[0m\u001b[0;34m\u001b[0m\u001b[0m\n\u001b[1;32m   3047\u001b[0m         new_items, new_blocks = self._cython_agg_blocks(\n\u001b[0;32m-> 3048\u001b[0;31m             how, numeric_only=numeric_only)\n\u001b[0m\u001b[1;32m   3049\u001b[0m         \u001b[0;32mreturn\u001b[0m \u001b[0mself\u001b[0m\u001b[0;34m.\u001b[0m\u001b[0m_wrap_agged_blocks\u001b[0m\u001b[0;34m(\u001b[0m\u001b[0mnew_items\u001b[0m\u001b[0;34m,\u001b[0m \u001b[0mnew_blocks\u001b[0m\u001b[0;34m)\u001b[0m\u001b[0;34m\u001b[0m\u001b[0m\n\u001b[1;32m   3050\u001b[0m \u001b[0;34m\u001b[0m\u001b[0m\n",
      "\u001b[0;32m/Users/Shepp/anaconda3/lib/python3.5/site-packages/pandas/core/groupby.py\u001b[0m in \u001b[0;36m_cython_agg_blocks\u001b[0;34m(self, how, numeric_only)\u001b[0m\n\u001b[1;32m   3092\u001b[0m \u001b[0;34m\u001b[0m\u001b[0m\n\u001b[1;32m   3093\u001b[0m         \u001b[0;32mif\u001b[0m \u001b[0mlen\u001b[0m\u001b[0;34m(\u001b[0m\u001b[0mnew_blocks\u001b[0m\u001b[0;34m)\u001b[0m \u001b[0;34m==\u001b[0m \u001b[0;36m0\u001b[0m\u001b[0;34m:\u001b[0m\u001b[0;34m\u001b[0m\u001b[0m\n\u001b[0;32m-> 3094\u001b[0;31m             \u001b[0;32mraise\u001b[0m \u001b[0mDataError\u001b[0m\u001b[0;34m(\u001b[0m\u001b[0;34m'No numeric types to aggregate'\u001b[0m\u001b[0;34m)\u001b[0m\u001b[0;34m\u001b[0m\u001b[0m\n\u001b[0m\u001b[1;32m   3095\u001b[0m \u001b[0;34m\u001b[0m\u001b[0m\n\u001b[1;32m   3096\u001b[0m         \u001b[0;32mreturn\u001b[0m \u001b[0mdata\u001b[0m\u001b[0;34m.\u001b[0m\u001b[0mitems\u001b[0m\u001b[0;34m,\u001b[0m \u001b[0mnew_blocks\u001b[0m\u001b[0;34m\u001b[0m\u001b[0m\n",
      "\u001b[0;31mDataError\u001b[0m: No numeric types to aggregate"
     ]
    }
   ],
   "source": [
    "# matrix = df.pivot_table(index=['customer_name'], columns=['offer_id'], values='n')\n",
    "matrix = df1.pivot_table(index=['customer'], columns=['b1'], values='n')"
   ]
  },
  {
   "cell_type": "code",
   "execution_count": null,
   "metadata": {
    "collapsed": true
   },
   "outputs": [],
   "source": [
    "# i think what i have to do at this stage is convert the data into a 2 dimensional array \n",
    "# recommendation is $ df=df.values\n",
    "# hmmm\n",
    "# in terms of replicating my data from the first example above i have to narrow my data set down to an x and a y though \n",
    "# ok, so what if we load a new data set - ok, sure - do it "
   ]
  },
  {
   "cell_type": "code",
   "execution_count": 19,
   "metadata": {
    "collapsed": false
   },
   "outputs": [],
   "source": [
    "df2=pd.read_csv(\"~/Documents/devel/dsom/6-cluster/data/cluster-python-2.csv\", index_col=0)"
   ]
  },
  {
   "cell_type": "code",
   "execution_count": 20,
   "metadata": {
    "collapsed": false
   },
   "outputs": [
    {
     "data": {
      "text/html": [
       "<div>\n",
       "<table border=\"1\" class=\"dataframe\">\n",
       "  <thead>\n",
       "    <tr style=\"text-align: right;\">\n",
       "      <th></th>\n",
       "      <th>b3</th>\n",
       "      <th>cta</th>\n",
       "    </tr>\n",
       "    <tr>\n",
       "      <th>customers</th>\n",
       "      <th></th>\n",
       "      <th></th>\n",
       "    </tr>\n",
       "  </thead>\n",
       "  <tbody>\n",
       "    <tr>\n",
       "      <th>nisl@adipiscingelit.org</th>\n",
       "      <td>16</td>\n",
       "      <td>9</td>\n",
       "    </tr>\n",
       "    <tr>\n",
       "      <th>dui.Fusce.diam@non.edu</th>\n",
       "      <td>25</td>\n",
       "      <td>6</td>\n",
       "    </tr>\n",
       "    <tr>\n",
       "      <th>nisl.Maecenas@vitaeorciPhasellus.org</th>\n",
       "      <td>23</td>\n",
       "      <td>4</td>\n",
       "    </tr>\n",
       "    <tr>\n",
       "      <th>justo.nec@Aenean.edu</th>\n",
       "      <td>4</td>\n",
       "      <td>11</td>\n",
       "    </tr>\n",
       "    <tr>\n",
       "      <th>neque.Morbi.quis@AeneanmassaInteger.ca</th>\n",
       "      <td>29</td>\n",
       "      <td>2</td>\n",
       "    </tr>\n",
       "  </tbody>\n",
       "</table>\n",
       "</div>"
      ],
      "text/plain": [
       "                                        b3  cta\n",
       "customers                                      \n",
       "nisl@adipiscingelit.org                 16    9\n",
       "dui.Fusce.diam@non.edu                  25    6\n",
       "nisl.Maecenas@vitaeorciPhasellus.org    23    4\n",
       "justo.nec@Aenean.edu                     4   11\n",
       "neque.Morbi.quis@AeneanmassaInteger.ca  29    2"
      ]
     },
     "execution_count": 20,
     "metadata": {},
     "output_type": "execute_result"
    }
   ],
   "source": [
    "df2.head()"
   ]
  },
  {
   "cell_type": "code",
   "execution_count": 21,
   "metadata": {
    "collapsed": false
   },
   "outputs": [
    {
     "data": {
      "text/plain": [
       "array([[ 6, 25],\n",
       "       [ 4, 23],\n",
       "       [ 2, 29],\n",
       "       [ 7, 26],\n",
       "       [12, 23],\n",
       "       [ 5, 28],\n",
       "       [ 7, 25],\n",
       "       [ 9, 18],\n",
       "       [16, 22],\n",
       "       [16, 21],\n",
       "       [17, 30],\n",
       "       [ 5, 25],\n",
       "       [ 5, 18],\n",
       "       [ 1, 23],\n",
       "       [ 8, 22],\n",
       "       [ 1, 29],\n",
       "       [ 5, 22],\n",
       "       [ 2, 21],\n",
       "       [ 4, 30],\n",
       "       [ 5, 30],\n",
       "       [14, 30],\n",
       "       [12, 25],\n",
       "       [ 7, 17],\n",
       "       [ 3, 21],\n",
       "       [ 7, 23],\n",
       "       [ 9, 28],\n",
       "       [ 5, 19],\n",
       "       [ 1, 25],\n",
       "       [ 6, 28],\n",
       "       [18, 24],\n",
       "       [13, 30],\n",
       "       [ 5, 25],\n",
       "       [ 3, 19],\n",
       "       [ 1, 20],\n",
       "       [ 6, 25],\n",
       "       [13, 21],\n",
       "       [14, 19],\n",
       "       [13, 19],\n",
       "       [ 5, 25],\n",
       "       [18, 30],\n",
       "       [15, 30],\n",
       "       [14, 17],\n",
       "       [11, 29],\n",
       "       [ 7, 27],\n",
       "       [ 6, 25],\n",
       "       [11, 17],\n",
       "       [ 4, 26],\n",
       "       [ 3, 26],\n",
       "       [ 5, 24],\n",
       "       [ 3, 19],\n",
       "       [15, 21],\n",
       "       [ 6, 21],\n",
       "       [ 1, 22],\n",
       "       [ 5, 20],\n",
       "       [10, 30],\n",
       "       [11, 17],\n",
       "       [16, 23],\n",
       "       [13, 27],\n",
       "       [15, 26],\n",
       "       [11, 26],\n",
       "       [15, 24],\n",
       "       [ 5, 19],\n",
       "       [ 3, 28],\n",
       "       [10, 27],\n",
       "       [16, 19],\n",
       "       [18, 20],\n",
       "       [ 5, 25],\n",
       "       [11, 22],\n",
       "       [15, 27],\n",
       "       [ 9, 21],\n",
       "       [17, 18],\n",
       "       [13, 30],\n",
       "       [10, 22],\n",
       "       [ 7, 20],\n",
       "       [ 4, 26],\n",
       "       [ 6, 25],\n",
       "       [ 3, 18],\n",
       "       [13, 23],\n",
       "       [ 1, 19],\n",
       "       [13, 26],\n",
       "       [ 8, 25],\n",
       "       [16, 29],\n",
       "       [ 7, 19],\n",
       "       [ 3, 26],\n",
       "       [ 2, 19],\n",
       "       [ 5, 20],\n",
       "       [18, 17],\n",
       "       [11, 26],\n",
       "       [14, 26],\n",
       "       [11, 30],\n",
       "       [ 9, 18],\n",
       "       [ 5, 29],\n",
       "       [13, 30],\n",
       "       [ 4, 21],\n",
       "       [ 4, 21],\n",
       "       [ 1, 20],\n",
       "       [17, 28],\n",
       "       [15, 26],\n",
       "       [ 1, 28],\n",
       "       [ 8, 19],\n",
       "       [ 7, 18],\n",
       "       [ 8, 30],\n",
       "       [16, 18],\n",
       "       [ 7, 24],\n",
       "       [14, 28],\n",
       "       [ 6, 27],\n",
       "       [14, 18],\n",
       "       [ 2, 23],\n",
       "       [ 9, 26],\n",
       "       [ 7, 21],\n",
       "       [ 6, 18],\n",
       "       [ 2, 29],\n",
       "       [16, 28],\n",
       "       [17, 27],\n",
       "       [10, 18],\n",
       "       [15, 21],\n",
       "       [ 2, 26],\n",
       "       [17, 24],\n",
       "       [ 4, 30],\n",
       "       [ 5, 17],\n",
       "       [17, 28],\n",
       "       [12, 29],\n",
       "       [ 3, 27],\n",
       "       [ 3, 26],\n",
       "       [14, 20],\n",
       "       [ 8, 28],\n",
       "       [ 8, 25],\n",
       "       [17, 22],\n",
       "       [10, 28],\n",
       "       [11, 25],\n",
       "       [17, 20],\n",
       "       [16, 24],\n",
       "       [ 6, 27],\n",
       "       [ 2, 21],\n",
       "       [16, 26],\n",
       "       [ 8, 21],\n",
       "       [ 7, 19],\n",
       "       [ 8, 27],\n",
       "       [ 3, 17],\n",
       "       [ 5, 24],\n",
       "       [ 3, 30],\n",
       "       [13, 20],\n",
       "       [15, 26],\n",
       "       [16, 17],\n",
       "       [ 5, 19],\n",
       "       [17, 29],\n",
       "       [ 4, 17],\n",
       "       [ 4, 27],\n",
       "       [10, 21],\n",
       "       [ 4, 18],\n",
       "       [ 6, 17]])"
      ]
     },
     "execution_count": 21,
     "metadata": {},
     "output_type": "execute_result"
    }
   ],
   "source": [
    "df2[df2.b3 > 16][['cta', 'b3']].values"
   ]
  },
  {
   "cell_type": "markdown",
   "metadata": {},
   "source": [
    "fuck yea"
   ]
  },
  {
   "cell_type": "code",
   "execution_count": 22,
   "metadata": {
    "collapsed": false
   },
   "outputs": [
    {
     "data": {
      "text/plain": [
       "array([[ 9, 16],\n",
       "       [ 6, 25],\n",
       "       [ 4, 23],\n",
       "       [11,  4],\n",
       "       [ 2, 29],\n",
       "       [13, 16],\n",
       "       [ 7, 26],\n",
       "       [ 4, 13],\n",
       "       [12, 23],\n",
       "       [11, 11],\n",
       "       [ 8,  8],\n",
       "       [ 5, 28],\n",
       "       [11, 16],\n",
       "       [ 7, 25],\n",
       "       [ 9, 18],\n",
       "       [16, 22],\n",
       "       [16,  5],\n",
       "       [15, 10],\n",
       "       [16, 21],\n",
       "       [ 7,  4],\n",
       "       [17, 30],\n",
       "       [ 5, 25],\n",
       "       [ 5, 18],\n",
       "       [ 1, 23],\n",
       "       [ 8, 22],\n",
       "       [ 4,  2],\n",
       "       [ 1, 29],\n",
       "       [ 5, 22],\n",
       "       [ 2,  5],\n",
       "       [ 2, 21],\n",
       "       [12, 13],\n",
       "       [ 3, 13],\n",
       "       [ 4, 30],\n",
       "       [ 5, 30],\n",
       "       [ 8, 14],\n",
       "       [13, 15],\n",
       "       [14, 30],\n",
       "       [ 8, 16],\n",
       "       [18, 12],\n",
       "       [12, 25],\n",
       "       [ 7, 17],\n",
       "       [ 3, 21],\n",
       "       [ 9,  3],\n",
       "       [14,  8],\n",
       "       [15, 16],\n",
       "       [ 6,  2],\n",
       "       [ 7, 23],\n",
       "       [ 9, 28],\n",
       "       [16, 13],\n",
       "       [ 2,  5],\n",
       "       [12, 11],\n",
       "       [ 4, 15],\n",
       "       [14, 12],\n",
       "       [ 5, 19],\n",
       "       [ 1, 25],\n",
       "       [ 6, 28],\n",
       "       [ 1, 14],\n",
       "       [14, 10],\n",
       "       [18, 24],\n",
       "       [13, 30],\n",
       "       [14, 10],\n",
       "       [ 5, 25],\n",
       "       [ 3, 19],\n",
       "       [18, 15],\n",
       "       [ 4,  7],\n",
       "       [13,  4],\n",
       "       [ 1, 20],\n",
       "       [ 9,  6],\n",
       "       [ 6, 25],\n",
       "       [ 2,  5],\n",
       "       [13, 21],\n",
       "       [14, 19],\n",
       "       [13, 19],\n",
       "       [16, 13],\n",
       "       [ 3, 14],\n",
       "       [ 9, 13],\n",
       "       [15,  4],\n",
       "       [ 5, 25],\n",
       "       [18, 30],\n",
       "       [15, 30],\n",
       "       [ 8, 11],\n",
       "       [18,  5],\n",
       "       [ 5,  3],\n",
       "       [14, 17],\n",
       "       [11, 29],\n",
       "       [ 1, 16],\n",
       "       [ 7, 27],\n",
       "       [ 6, 25],\n",
       "       [11, 17],\n",
       "       [ 9,  7],\n",
       "       [ 4, 26],\n",
       "       [14,  8],\n",
       "       [ 3, 26],\n",
       "       [ 4, 13],\n",
       "       [12,  6],\n",
       "       [ 5, 24],\n",
       "       [15, 13],\n",
       "       [ 4,  4],\n",
       "       [17, 14],\n",
       "       [18, 15],\n",
       "       [ 3, 19],\n",
       "       [ 5,  5],\n",
       "       [17,  9],\n",
       "       [ 5,  9],\n",
       "       [15, 21],\n",
       "       [ 6, 21],\n",
       "       [ 9, 10],\n",
       "       [ 1, 22],\n",
       "       [ 3, 10],\n",
       "       [ 6, 16],\n",
       "       [ 5, 20],\n",
       "       [ 9, 10],\n",
       "       [11,  2],\n",
       "       [10, 30],\n",
       "       [ 8,  5],\n",
       "       [18,  6],\n",
       "       [ 1,  8],\n",
       "       [16, 12],\n",
       "       [11, 17],\n",
       "       [ 1, 11],\n",
       "       [12, 15],\n",
       "       [16,  8],\n",
       "       [17,  1],\n",
       "       [16, 23],\n",
       "       [13, 27],\n",
       "       [15, 26],\n",
       "       [10, 13],\n",
       "       [ 6,  9],\n",
       "       [11, 26],\n",
       "       [15, 24],\n",
       "       [ 5, 19],\n",
       "       [10, 12],\n",
       "       [ 8,  9],\n",
       "       [ 3, 28],\n",
       "       [10, 27],\n",
       "       [16, 19],\n",
       "       [18, 20],\n",
       "       [ 5, 25],\n",
       "       [11, 22],\n",
       "       [15, 27],\n",
       "       [ 9, 21],\n",
       "       [17, 18],\n",
       "       [12,  4],\n",
       "       [14, 16],\n",
       "       [ 8, 10],\n",
       "       [18, 13],\n",
       "       [17, 11],\n",
       "       [16,  1],\n",
       "       [12, 13],\n",
       "       [12,  8],\n",
       "       [13, 30],\n",
       "       [10, 22],\n",
       "       [11, 15],\n",
       "       [ 7, 20],\n",
       "       [ 4, 26],\n",
       "       [ 4, 15],\n",
       "       [ 6, 25],\n",
       "       [ 6,  1],\n",
       "       [13, 12],\n",
       "       [ 3, 18],\n",
       "       [ 1,  3],\n",
       "       [ 8,  3],\n",
       "       [ 2,  4],\n",
       "       [11,  4],\n",
       "       [13,  9],\n",
       "       [ 6,  5],\n",
       "       [14,  9],\n",
       "       [ 1,  3],\n",
       "       [13, 23],\n",
       "       [ 1, 19],\n",
       "       [13, 26],\n",
       "       [15, 13],\n",
       "       [ 3, 12],\n",
       "       [ 8, 25],\n",
       "       [14, 10],\n",
       "       [ 8,  4],\n",
       "       [16, 29],\n",
       "       [ 7, 19],\n",
       "       [14, 11],\n",
       "       [ 7, 10],\n",
       "       [ 3, 26],\n",
       "       [ 3, 11],\n",
       "       [12,  7],\n",
       "       [ 2, 19],\n",
       "       [ 5, 20],\n",
       "       [18, 17],\n",
       "       [11, 26],\n",
       "       [11, 16],\n",
       "       [14, 26],\n",
       "       [ 9,  7],\n",
       "       [13,  2],\n",
       "       [15,  5],\n",
       "       [11, 30],\n",
       "       [11, 16],\n",
       "       [ 9, 18],\n",
       "       [15,  3],\n",
       "       [ 5, 29],\n",
       "       [13, 30],\n",
       "       [ 4, 21],\n",
       "       [ 5, 15],\n",
       "       [13,  7],\n",
       "       [ 4, 21],\n",
       "       [ 1, 20],\n",
       "       [17, 28],\n",
       "       [ 9, 15],\n",
       "       [15, 26],\n",
       "       [ 1, 28],\n",
       "       [12, 10],\n",
       "       [ 8, 19],\n",
       "       [ 7, 18],\n",
       "       [ 8, 30],\n",
       "       [ 5, 15],\n",
       "       [16, 18],\n",
       "       [ 7, 24],\n",
       "       [14, 28],\n",
       "       [10, 11],\n",
       "       [10,  5],\n",
       "       [ 6, 27],\n",
       "       [14, 18],\n",
       "       [ 2, 23],\n",
       "       [ 9, 26],\n",
       "       [ 4,  9],\n",
       "       [ 4,  6],\n",
       "       [ 7, 21],\n",
       "       [ 2, 13],\n",
       "       [ 6, 18],\n",
       "       [ 3, 16],\n",
       "       [ 8, 16],\n",
       "       [ 2, 29],\n",
       "       [11,  4],\n",
       "       [14,  6],\n",
       "       [11,  7],\n",
       "       [ 9,  7],\n",
       "       [18, 13],\n",
       "       [12, 10],\n",
       "       [15, 11],\n",
       "       [14,  8],\n",
       "       [16, 28],\n",
       "       [17, 27],\n",
       "       [10, 18],\n",
       "       [14, 15],\n",
       "       [15, 21],\n",
       "       [ 8,  9],\n",
       "       [ 2, 26],\n",
       "       [17, 24],\n",
       "       [ 3,  9],\n",
       "       [ 4, 30],\n",
       "       [ 3, 12],\n",
       "       [ 6, 14],\n",
       "       [14, 13],\n",
       "       [ 5, 17],\n",
       "       [17, 28],\n",
       "       [12, 29],\n",
       "       [ 5,  1],\n",
       "       [ 3, 27],\n",
       "       [14,  3],\n",
       "       [ 3, 26],\n",
       "       [ 6,  5],\n",
       "       [16, 12],\n",
       "       [14, 20],\n",
       "       [ 8, 28],\n",
       "       [ 8, 25],\n",
       "       [17, 22],\n",
       "       [ 4, 16],\n",
       "       [10, 28],\n",
       "       [11, 25],\n",
       "       [17, 20],\n",
       "       [16, 24],\n",
       "       [ 6, 27],\n",
       "       [ 2, 21],\n",
       "       [ 7, 16],\n",
       "       [16, 26],\n",
       "       [13,  8],\n",
       "       [ 8, 21],\n",
       "       [15,  8],\n",
       "       [16,  2],\n",
       "       [11, 12],\n",
       "       [ 7, 19],\n",
       "       [ 8, 27],\n",
       "       [ 3, 17],\n",
       "       [ 4,  8],\n",
       "       [ 5, 24],\n",
       "       [ 3, 30],\n",
       "       [13, 20],\n",
       "       [10,  8],\n",
       "       [ 9, 10],\n",
       "       [15, 26],\n",
       "       [16, 17],\n",
       "       [17,  4],\n",
       "       [ 5, 19],\n",
       "       [ 7,  9],\n",
       "       [ 9,  6],\n",
       "       [13,  7],\n",
       "       [17, 29],\n",
       "       [ 4, 17],\n",
       "       [ 4, 27],\n",
       "       [10, 21],\n",
       "       [ 3,  8],\n",
       "       [ 4, 18],\n",
       "       [ 6, 17]])"
      ]
     },
     "execution_count": 22,
     "metadata": {},
     "output_type": "execute_result"
    }
   ],
   "source": [
    "df2[['cta', 'b3']].values"
   ]
  },
  {
   "cell_type": "code",
   "execution_count": 23,
   "metadata": {
    "collapsed": false
   },
   "outputs": [
    {
     "data": {
      "image/png": "[encoded data removed]",
      "text/plain": [
       "<matplotlib.figure.Figure at 0x11a246b70>"
      ]
     },
     "metadata": {},
     "output_type": "display_data"
    }
   ],
   "source": [
    "plt.scatter(df2.b3,df2.cta)\n",
    "plt.show()"
   ]
  },
  {
   "cell_type": "code",
   "execution_count": 24,
   "metadata": {
    "collapsed": false
   },
   "outputs": [
    {
     "name": "stdout",
     "output_type": "stream",
     "text": [
      "[[  8.45384615  10.11538462]\n",
      " [ 22.07920792   4.9009901 ]\n",
      " [ 23.65217391  14.2173913 ]]\n",
      "[1 1 1 0 1 2 1 0 2 0 0 1 0 1 1 2 0 0 2 0 2 1 1 1 1 0 1 1 0 1 0 0 1 1 0 0 2\n",
      " 1 0 2 1 1 0 0 2 0 1 2 0 0 0 1 0 1 1 1 1 0 2 2 0 1 1 2 0 0 1 0 1 0 2 2 2 0\n",
      " 1 0 0 1 2 2 0 0 0 2 2 1 1 1 2 0 1 0 1 0 0 1 0 0 0 2 1 0 0 0 2 1 0 1 0 1 1\n",
      " 0 0 2 0 0 0 0 2 0 0 0 0 2 2 2 0 0 2 2 1 0 0 1 2 2 2 1 2 2 1 2 0 2 0 0 0 0\n",
      " 0 0 2 2 0 1 1 1 1 0 0 1 0 0 0 0 0 0 0 0 2 1 2 0 0 1 0 0 2 1 0 0 1 0 0 1 1\n",
      " 2 2 0 2 0 0 0 2 0 1 0 1 2 1 1 0 1 1 2 0 2 1 0 1 1 1 1 2 1 2 0 0 1 2 1 1 0\n",
      " 0 1 0 1 1 1 1 0 0 0 0 0 0 0 0 2 2 1 0 2 0 1 2 0 1 0 0 0 1 2 2 0 1 0 1 0 0\n",
      " 2 1 1 2 1 2 2 2 2 1 1 1 2 0 1 0 0 0 1 1 1 0 1 1 2 0 0 2 2 0 1 0 0 0 2 1 1\n",
      " 2 0 1 1]\n"
     ]
    }
   ],
   "source": [
    "from sklearn.cluster import KMeans\n",
    "\n",
    "#from above\n",
    "kmeans = KMeans(n_clusters=3)\n",
    "\n",
    "# apply kmeans to that array \n",
    "kmeans.fit(df2)\n",
    "\n",
    "centroids = kmeans.cluster_centers_\n",
    "labels = kmeans.labels_\n",
    "\n",
    "print(centroids)\n",
    "print(labels)"
   ]
  },
  {
   "cell_type": "code",
   "execution_count": 26,
   "metadata": {
    "collapsed": false
   },
   "outputs": [
    {
     "name": "stdout",
     "output_type": "stream",
     "text": [
      "coordinate: [16 11] label: 1\n",
      "coordinate: [25  7] label: 1\n",
      "coordinate: [18  9] label: 1\n",
      "coordinate: [22 16] label: 0\n",
      "coordinate: [ 5 16] label: 1\n",
      "coordinate: [10 15] label: 2\n"
     ]
    },
    {
     "ename": "IndexError",
     "evalue": "list index out of range",
     "output_type": "error",
     "traceback": [
      "\u001b[0;31m---------------------------------------------------------------------------\u001b[0m",
      "\u001b[0;31mIndexError\u001b[0m                                Traceback (most recent call last)",
      "\u001b[0;32m<ipython-input-26-4b0bb0ea92ea>\u001b[0m in \u001b[0;36m<module>\u001b[0;34m()\u001b[0m\n\u001b[1;32m      3\u001b[0m \u001b[0;32mfor\u001b[0m \u001b[0mi\u001b[0m \u001b[0;32min\u001b[0m \u001b[0mrange\u001b[0m\u001b[0;34m(\u001b[0m\u001b[0mlen\u001b[0m\u001b[0;34m(\u001b[0m\u001b[0mdf2\u001b[0m\u001b[0;34m)\u001b[0m\u001b[0;34m)\u001b[0m\u001b[0;34m:\u001b[0m\u001b[0;34m\u001b[0m\u001b[0m\n\u001b[1;32m      4\u001b[0m     \u001b[0mprint\u001b[0m\u001b[0;34m(\u001b[0m\u001b[0;34m\"coordinate:\"\u001b[0m\u001b[0;34m,\u001b[0m\u001b[0mX\u001b[0m\u001b[0;34m[\u001b[0m\u001b[0mi\u001b[0m\u001b[0;34m]\u001b[0m\u001b[0;34m,\u001b[0m \u001b[0;34m\"label:\"\u001b[0m\u001b[0;34m,\u001b[0m \u001b[0mlabels\u001b[0m\u001b[0;34m[\u001b[0m\u001b[0mi\u001b[0m\u001b[0;34m]\u001b[0m\u001b[0;34m)\u001b[0m\u001b[0;34m\u001b[0m\u001b[0m\n\u001b[0;32m----> 5\u001b[0;31m     \u001b[0mplt\u001b[0m\u001b[0;34m.\u001b[0m\u001b[0mplot\u001b[0m\u001b[0;34m(\u001b[0m\u001b[0mX\u001b[0m\u001b[0;34m[\u001b[0m\u001b[0mi\u001b[0m\u001b[0;34m]\u001b[0m\u001b[0;34m[\u001b[0m\u001b[0;36m0\u001b[0m\u001b[0;34m]\u001b[0m\u001b[0;34m,\u001b[0m \u001b[0mX\u001b[0m\u001b[0;34m[\u001b[0m\u001b[0mi\u001b[0m\u001b[0;34m]\u001b[0m\u001b[0;34m[\u001b[0m\u001b[0;36m1\u001b[0m\u001b[0;34m]\u001b[0m\u001b[0;34m,\u001b[0m \u001b[0mcolors\u001b[0m\u001b[0;34m[\u001b[0m\u001b[0mlabels\u001b[0m\u001b[0;34m[\u001b[0m\u001b[0mi\u001b[0m\u001b[0;34m]\u001b[0m\u001b[0;34m]\u001b[0m\u001b[0;34m,\u001b[0m \u001b[0mmarkersize\u001b[0m \u001b[0;34m=\u001b[0m \u001b[0;36m10\u001b[0m\u001b[0;34m)\u001b[0m\u001b[0;34m\u001b[0m\u001b[0m\n\u001b[0m\u001b[1;32m      6\u001b[0m \u001b[0;34m\u001b[0m\u001b[0m\n\u001b[1;32m      7\u001b[0m \u001b[0;34m\u001b[0m\u001b[0m\n",
      "\u001b[0;31mIndexError\u001b[0m: list index out of range"
     ]
    },
    {
     "data": {
      "image/png": "[encoded data removed]",
      "text/plain": [
       "<matplotlib.figure.Figure at 0x11a2ae518>"
      ]
     },
     "metadata": {},
     "output_type": "display_data"
    }
   ],
   "source": [
    "colors = [\"g.\",\"r.\"]\n",
    "\n",
    "for i in range(len(df2)):\n",
    "    print(\"coordinate:\",X[i], \"label:\", labels[i])\n",
    "    plt.plot(X[i][0], X[i][1], colors[labels[i]], markersize = 10)\n",
    "\n",
    "\n",
    "plt.scatter(centroids[:, 0],centroids[:, 1], marker = \"x\", s=150, linewidths = 5, zorder = 10)\n",
    "\n",
    "plt.show()"
   ]
  },
  {
   "cell_type": "code",
   "execution_count": null,
   "metadata": {
    "collapsed": true
   },
   "outputs": [],
   "source": []
  }
 ],
 "metadata": {
  "kernelspec": {
   "display_name": "Python [Root]",
   "language": "python",
   "name": "Python [Root]"
  },
  "language_info": {
   "codemirror_mode": {
    "name": "ipython",
    "version": 3
   },
   "file_extension": ".py",
   "mimetype": "text/x-python",
   "name": "python",
   "nbconvert_exporter": "python",
   "pygments_lexer": "ipython3",
   "version": "3.5.2"
  }
 },
 "nbformat": 4,
 "nbformat_minor": 0
}
