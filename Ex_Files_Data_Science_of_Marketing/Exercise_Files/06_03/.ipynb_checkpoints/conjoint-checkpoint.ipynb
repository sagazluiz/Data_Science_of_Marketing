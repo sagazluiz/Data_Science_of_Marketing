{
 "cells": [
  {
   "cell_type": "code",
   "execution_count": 15,
   "metadata": {
    "collapsed": true
   },
   "outputs": [],
   "source": [
    "# Load in our packages\n",
    "\n",
    "import numpy as np\n",
    "import pandas as pd\n",
    "import statsmodels.api as sm\n",
    "import matplotlib.pyplot as plt\n",
    "%matplotlib inline"
   ]
  },
  {
   "cell_type": "code",
   "execution_count": 16,
   "metadata": {
    "collapsed": false
   },
   "outputs": [],
   "source": [
    "# Connect to our data\n",
    "\n",
    "myConjointData = pd.read_csv('~/Desktop/Exercise_Files/06_03/conjoint-py.csv')"
   ]
  },
  {
   "cell_type": "code",
   "execution_count": 17,
   "metadata": {
    "collapsed": false
   },
   "outputs": [
    {
     "data": {
      "text/html": [
       "<div>\n",
       "<table border=\"1\" class=\"dataframe\">\n",
       "  <thead>\n",
       "    <tr style=\"text-align: right;\">\n",
       "      <th></th>\n",
       "      <th>Rank</th>\n",
       "      <th>P1</th>\n",
       "      <th>P2</th>\n",
       "      <th>U1</th>\n",
       "      <th>U2</th>\n",
       "      <th>D1</th>\n",
       "      <th>D2</th>\n",
       "      <th>D3</th>\n",
       "    </tr>\n",
       "  </thead>\n",
       "  <tbody>\n",
       "    <tr>\n",
       "      <th>0</th>\n",
       "      <td>7</td>\n",
       "      <td>1</td>\n",
       "      <td>0</td>\n",
       "      <td>1</td>\n",
       "      <td>0</td>\n",
       "      <td>1</td>\n",
       "      <td>0</td>\n",
       "      <td>0</td>\n",
       "    </tr>\n",
       "    <tr>\n",
       "      <th>1</th>\n",
       "      <td>6</td>\n",
       "      <td>1</td>\n",
       "      <td>0</td>\n",
       "      <td>0</td>\n",
       "      <td>1</td>\n",
       "      <td>1</td>\n",
       "      <td>0</td>\n",
       "      <td>0</td>\n",
       "    </tr>\n",
       "    <tr>\n",
       "      <th>2</th>\n",
       "      <td>8</td>\n",
       "      <td>0</td>\n",
       "      <td>1</td>\n",
       "      <td>1</td>\n",
       "      <td>0</td>\n",
       "      <td>1</td>\n",
       "      <td>0</td>\n",
       "      <td>0</td>\n",
       "    </tr>\n",
       "    <tr>\n",
       "      <th>3</th>\n",
       "      <td>1</td>\n",
       "      <td>0</td>\n",
       "      <td>1</td>\n",
       "      <td>0</td>\n",
       "      <td>1</td>\n",
       "      <td>1</td>\n",
       "      <td>0</td>\n",
       "      <td>0</td>\n",
       "    </tr>\n",
       "    <tr>\n",
       "      <th>4</th>\n",
       "      <td>10</td>\n",
       "      <td>1</td>\n",
       "      <td>0</td>\n",
       "      <td>1</td>\n",
       "      <td>0</td>\n",
       "      <td>0</td>\n",
       "      <td>1</td>\n",
       "      <td>0</td>\n",
       "    </tr>\n",
       "    <tr>\n",
       "      <th>5</th>\n",
       "      <td>3</td>\n",
       "      <td>1</td>\n",
       "      <td>0</td>\n",
       "      <td>0</td>\n",
       "      <td>1</td>\n",
       "      <td>0</td>\n",
       "      <td>1</td>\n",
       "      <td>0</td>\n",
       "    </tr>\n",
       "    <tr>\n",
       "      <th>6</th>\n",
       "      <td>4</td>\n",
       "      <td>0</td>\n",
       "      <td>1</td>\n",
       "      <td>1</td>\n",
       "      <td>0</td>\n",
       "      <td>0</td>\n",
       "      <td>1</td>\n",
       "      <td>0</td>\n",
       "    </tr>\n",
       "    <tr>\n",
       "      <th>7</th>\n",
       "      <td>2</td>\n",
       "      <td>0</td>\n",
       "      <td>1</td>\n",
       "      <td>0</td>\n",
       "      <td>1</td>\n",
       "      <td>0</td>\n",
       "      <td>1</td>\n",
       "      <td>0</td>\n",
       "    </tr>\n",
       "    <tr>\n",
       "      <th>8</th>\n",
       "      <td>9</td>\n",
       "      <td>1</td>\n",
       "      <td>0</td>\n",
       "      <td>1</td>\n",
       "      <td>0</td>\n",
       "      <td>0</td>\n",
       "      <td>0</td>\n",
       "      <td>1</td>\n",
       "    </tr>\n",
       "    <tr>\n",
       "      <th>9</th>\n",
       "      <td>12</td>\n",
       "      <td>1</td>\n",
       "      <td>0</td>\n",
       "      <td>0</td>\n",
       "      <td>1</td>\n",
       "      <td>0</td>\n",
       "      <td>0</td>\n",
       "      <td>1</td>\n",
       "    </tr>\n",
       "    <tr>\n",
       "      <th>10</th>\n",
       "      <td>11</td>\n",
       "      <td>0</td>\n",
       "      <td>1</td>\n",
       "      <td>1</td>\n",
       "      <td>0</td>\n",
       "      <td>0</td>\n",
       "      <td>0</td>\n",
       "      <td>1</td>\n",
       "    </tr>\n",
       "    <tr>\n",
       "      <th>11</th>\n",
       "      <td>5</td>\n",
       "      <td>0</td>\n",
       "      <td>1</td>\n",
       "      <td>0</td>\n",
       "      <td>1</td>\n",
       "      <td>0</td>\n",
       "      <td>0</td>\n",
       "      <td>1</td>\n",
       "    </tr>\n",
       "  </tbody>\n",
       "</table>\n",
       "</div>"
      ],
      "text/plain": [
       "    Rank  P1  P2  U1  U2  D1  D2  D3\n",
       "0      7   1   0   1   0   1   0   0\n",
       "1      6   1   0   0   1   1   0   0\n",
       "2      8   0   1   1   0   1   0   0\n",
       "3      1   0   1   0   1   1   0   0\n",
       "4     10   1   0   1   0   0   1   0\n",
       "5      3   1   0   0   1   0   1   0\n",
       "6      4   0   1   1   0   0   1   0\n",
       "7      2   0   1   0   1   0   1   0\n",
       "8      9   1   0   1   0   0   0   1\n",
       "9     12   1   0   0   1   0   0   1\n",
       "10    11   0   1   1   0   0   0   1\n",
       "11     5   0   1   0   1   0   0   1"
      ]
     },
     "execution_count": 17,
     "metadata": {},
     "output_type": "execute_result"
    }
   ],
   "source": [
    "# See a snapshot of our data\n",
    "myConjointData"
   ]
  },
  {
   "cell_type": "code",
   "execution_count": 18,
   "metadata": {
    "collapsed": false
   },
   "outputs": [
    {
     "data": {
      "text/html": [
       "<div>\n",
       "<table border=\"1\" class=\"dataframe\">\n",
       "  <thead>\n",
       "    <tr style=\"text-align: right;\">\n",
       "      <th></th>\n",
       "      <th>Rank</th>\n",
       "      <th>PhotoF1</th>\n",
       "      <th>PhotoF2</th>\n",
       "      <th>Ux1</th>\n",
       "      <th>Ux2</th>\n",
       "      <th>SpecialSauce1</th>\n",
       "      <th>SpecialSauce2</th>\n",
       "      <th>SpecialSauce3</th>\n",
       "    </tr>\n",
       "  </thead>\n",
       "  <tbody>\n",
       "    <tr>\n",
       "      <th>0</th>\n",
       "      <td>7</td>\n",
       "      <td>1</td>\n",
       "      <td>0</td>\n",
       "      <td>1</td>\n",
       "      <td>0</td>\n",
       "      <td>1</td>\n",
       "      <td>0</td>\n",
       "      <td>0</td>\n",
       "    </tr>\n",
       "  </tbody>\n",
       "</table>\n",
       "</div>"
      ],
      "text/plain": [
       "   Rank  PhotoF1  PhotoF2  Ux1  Ux2  SpecialSauce1  SpecialSauce2  \\\n",
       "0     7        1        0    1    0              1              0   \n",
       "\n",
       "   SpecialSauce3  \n",
       "0              0  "
      ]
     },
     "execution_count": 18,
     "metadata": {},
     "output_type": "execute_result"
    }
   ],
   "source": [
    "# Update the names of our vectors\n",
    "\n",
    "names = {\"Rank\":\"Rank\", \"P1\": \"PhotoF1\",\"P2\": \"PhotoF2\", \"U1\": \"Ux1\", \\\n",
    "         \"U2\": \"Ux2\", \"D1\":\"SpecialSauce1\", \\\n",
    "         \"D2\":\"SpecialSauce2\", \"D3\":\"SpecialSauce3\"\\\n",
    "        }\n",
    "\n",
    "# Apply those new names\n",
    "myConjointData.rename(columns = names, inplace=True)\n",
    "\n",
    "# Confirm all is as we intended \n",
    "myConjointData.head(1)"
   ]
  },
  {
   "cell_type": "code",
   "execution_count": 20,
   "metadata": {
    "collapsed": false
   },
   "outputs": [
    {
     "name": "stderr",
     "output_type": "stream",
     "text": [
      "/Users/chrisdallavilla/anaconda/lib/python3.5/site-packages/scipy/stats/stats.py:1327: UserWarning: kurtosistest only valid for n>=20 ... continuing anyway, n=12\n",
      "  \"anyway, n=%i\" % int(n))\n"
     ]
    },
    {
     "data": {
      "text/html": [
       "<table class=\"simpletable\">\n",
       "<caption>OLS Regression Results</caption>\n",
       "<tr>\n",
       "  <th>Dep. Variable:</th>          <td>Rank</td>       <th>  R-squared:         </th> <td>   0.707</td>\n",
       "</tr>\n",
       "<tr>\n",
       "  <th>Model:</th>                   <td>OLS</td>       <th>  Adj. R-squared:    </th> <td>   0.540</td>\n",
       "</tr>\n",
       "<tr>\n",
       "  <th>Method:</th>             <td>Least Squares</td>  <th>  F-statistic:       </th> <td>   4.232</td>\n",
       "</tr>\n",
       "<tr>\n",
       "  <th>Date:</th>             <td>Fri, 09 Dec 2016</td> <th>  Prob (F-statistic):</th>  <td>0.0471</td> \n",
       "</tr>\n",
       "<tr>\n",
       "  <th>Time:</th>                 <td>15:39:03</td>     <th>  Log-Likelihood:    </th> <td> -24.520</td>\n",
       "</tr>\n",
       "<tr>\n",
       "  <th>No. Observations:</th>      <td>    12</td>      <th>  AIC:               </th> <td>   59.04</td>\n",
       "</tr>\n",
       "<tr>\n",
       "  <th>Df Residuals:</th>          <td>     7</td>      <th>  BIC:               </th> <td>   61.46</td>\n",
       "</tr>\n",
       "<tr>\n",
       "  <th>Df Model:</th>              <td>     4</td>      <th>                     </th>     <td> </td>   \n",
       "</tr>\n",
       "<tr>\n",
       "  <th>Covariance Type:</th>      <td>nonrobust</td>    <th>                     </th>     <td> </td>   \n",
       "</tr>\n",
       "</table>\n",
       "<table class=\"simpletable\">\n",
       "<tr>\n",
       "        <td></td>           <th>coef</th>     <th>std err</th>      <th>t</th>      <th>P>|t|</th> <th>[95.0% Conf. Int.]</th> \n",
       "</tr>\n",
       "<tr>\n",
       "  <th>const</th>         <td>    2.7857</td> <td>    0.302</td> <td>    9.211</td> <td> 0.000</td> <td>    2.071     3.501</td>\n",
       "</tr>\n",
       "<tr>\n",
       "  <th>PhotoF1</th>       <td>    2.7262</td> <td>    0.722</td> <td>    3.777</td> <td> 0.007</td> <td>    1.020     4.433</td>\n",
       "</tr>\n",
       "<tr>\n",
       "  <th>PhotoF2</th>       <td>    0.0595</td> <td>    0.722</td> <td>    0.082</td> <td> 0.937</td> <td>   -1.647     1.766</td>\n",
       "</tr>\n",
       "<tr>\n",
       "  <th>Ux1</th>           <td>    3.0595</td> <td>    0.722</td> <td>    4.239</td> <td> 0.004</td> <td>    1.353     4.766</td>\n",
       "</tr>\n",
       "<tr>\n",
       "  <th>Ux2</th>           <td>   -0.2738</td> <td>    0.722</td> <td>   -0.379</td> <td> 0.716</td> <td>   -1.980     1.433</td>\n",
       "</tr>\n",
       "<tr>\n",
       "  <th>SpecialSauce1</th> <td>   -0.0714</td> <td>    1.003</td> <td>   -0.071</td> <td> 0.945</td> <td>   -2.443     2.301</td>\n",
       "</tr>\n",
       "<tr>\n",
       "  <th>SpecialSauce2</th> <td>   -0.8214</td> <td>    1.003</td> <td>   -0.819</td> <td> 0.440</td> <td>   -3.193     1.551</td>\n",
       "</tr>\n",
       "<tr>\n",
       "  <th>SpecialSauce3</th> <td>    3.6786</td> <td>    1.003</td> <td>    3.667</td> <td> 0.008</td> <td>    1.307     6.051</td>\n",
       "</tr>\n",
       "</table>\n",
       "<table class=\"simpletable\">\n",
       "<tr>\n",
       "  <th>Omnibus:</th>       <td> 0.944</td> <th>  Durbin-Watson:     </th> <td>   2.685</td>\n",
       "</tr>\n",
       "<tr>\n",
       "  <th>Prob(Omnibus):</th> <td> 0.624</td> <th>  Jarque-Bera (JB):  </th> <td>   0.660</td>\n",
       "</tr>\n",
       "<tr>\n",
       "  <th>Skew:</th>          <td> 0.092</td> <th>  Prob(JB):          </th> <td>   0.719</td>\n",
       "</tr>\n",
       "<tr>\n",
       "  <th>Kurtosis:</th>      <td> 1.866</td> <th>  Cond. No.          </th> <td>4.04e+16</td>\n",
       "</tr>\n",
       "</table>"
      ],
      "text/plain": [
       "<class 'statsmodels.iolib.summary.Summary'>\n",
       "\"\"\"\n",
       "                            OLS Regression Results                            \n",
       "==============================================================================\n",
       "Dep. Variable:                   Rank   R-squared:                       0.707\n",
       "Model:                            OLS   Adj. R-squared:                  0.540\n",
       "Method:                 Least Squares   F-statistic:                     4.232\n",
       "Date:                Fri, 09 Dec 2016   Prob (F-statistic):             0.0471\n",
       "Time:                        15:39:03   Log-Likelihood:                -24.520\n",
       "No. Observations:                  12   AIC:                             59.04\n",
       "Df Residuals:                       7   BIC:                             61.46\n",
       "Df Model:                           4                                         \n",
       "Covariance Type:            nonrobust                                         \n",
       "=================================================================================\n",
       "                    coef    std err          t      P>|t|      [95.0% Conf. Int.]\n",
       "---------------------------------------------------------------------------------\n",
       "const             2.7857      0.302      9.211      0.000         2.071     3.501\n",
       "PhotoF1           2.7262      0.722      3.777      0.007         1.020     4.433\n",
       "PhotoF2           0.0595      0.722      0.082      0.937        -1.647     1.766\n",
       "Ux1               3.0595      0.722      4.239      0.004         1.353     4.766\n",
       "Ux2              -0.2738      0.722     -0.379      0.716        -1.980     1.433\n",
       "SpecialSauce1    -0.0714      1.003     -0.071      0.945        -2.443     2.301\n",
       "SpecialSauce2    -0.8214      1.003     -0.819      0.440        -3.193     1.551\n",
       "SpecialSauce3     3.6786      1.003      3.667      0.008         1.307     6.051\n",
       "==============================================================================\n",
       "Omnibus:                        0.944   Durbin-Watson:                   2.685\n",
       "Prob(Omnibus):                  0.624   Jarque-Bera (JB):                0.660\n",
       "Skew:                           0.092   Prob(JB):                        0.719\n",
       "Kurtosis:                       1.866   Cond. No.                     4.04e+16\n",
       "==============================================================================\n",
       "\n",
       "Warnings:\n",
       "[1] Standard Errors assume that the covariance matrix of the errors is correctly specified.\n",
       "[2] The smallest eigenvalue is 1.71e-32. This might indicate that there are\n",
       "strong multicollinearity problems or that the design matrix is singular.\n",
       "\"\"\""
      ]
     },
     "execution_count": 20,
     "metadata": {},
     "output_type": "execute_result"
    }
   ],
   "source": [
    "# Assign our test data to the x\n",
    "X = myConjointData[['PhotoF1', 'PhotoF2', 'Ux1', 'Ux2', 'SpecialSauce1', \\\n",
    "                    'SpecialSauce2', 'SpecialSauce3']]\n",
    "                 \n",
    "# Assign a constant\n",
    "X = sm.add_constant(X)\n",
    "\n",
    "# Assign our resulting test data to the y\n",
    "Y = myConjointData.Rank\n",
    "\n",
    "# Perform a linear regression model \n",
    "myLinearRegressionForConjoint = sm.OLS(Y, X). fit()\n",
    "myLinearRegressionForConjoint.summary()"
   ]
  },
  {
   "cell_type": "code",
   "execution_count": 21,
   "metadata": {
    "collapsed": false
   },
   "outputs": [
    {
     "data": {
      "text/plain": [
       "[0.388771186440678, 0.323093220338983, 0.288135593220339]"
      ]
     },
     "execution_count": 21,
     "metadata": {},
     "output_type": "execute_result"
    }
   ],
   "source": [
    "# Normalize values for each feature \n",
    "raw = [3.67,3.05,2.72]\n",
    "norm = [float(i)/sum(raw) for i in raw]\n",
    "norm"
   ]
  },
  {
   "cell_type": "code",
   "execution_count": 22,
   "metadata": {
    "collapsed": false
   },
   "outputs": [
    {
     "data": {
      "text/plain": [
       "(-1.0134992223278581,\n",
       " 1.0115396799001157,\n",
       " -1.1052079951930152,\n",
       " 1.0190809061436532)"
      ]
     },
     "execution_count": 22,
     "metadata": {},
     "output_type": "execute_result"
    },
    {
     "data": {
      "image/png": "[encoded data removed]",
      "text/plain": [
       "<matplotlib.figure.Figure at 0x11a968ba8>"
      ]
     },
     "metadata": {},
     "output_type": "display_data"
    }
   ],
   "source": [
    "# Graph our winning product features\n",
    "\n",
    "labels = 'Special Sauce Feature Three', 'User Experience Feature One', 'Photo Feature One'\n",
    "sizes = [39, 32, 29]\n",
    "colors = ['yellowgreen', 'mediumpurple', 'lightskyblue'] \n",
    "explode = (0, 0.1, 0)    \n",
    "plt.pie(sizes,              \n",
    "        explode=explode,   \n",
    "        labels=labels,      \n",
    "        colors=colors,      \n",
    "        autopct='%1.1f%%',  \n",
    "        shadow=True,        \n",
    "        startangle=70       \n",
    "        )\n",
    "\n",
    "plt.axis('equal')\n"
   ]
  },
  {
   "cell_type": "code",
   "execution_count": null,
   "metadata": {
    "collapsed": true
   },
   "outputs": [],
   "source": []
  }
 ],
 "metadata": {
  "anaconda-cloud": {},
  "kernelspec": {
   "display_name": "Python [conda root]",
   "language": "python",
   "name": "conda-root-py"
  },
  "language_info": {
   "codemirror_mode": {
    "name": "ipython",
    "version": 3
   },
   "file_extension": ".py",
   "mimetype": "text/x-python",
   "name": "python",
   "nbconvert_exporter": "python",
   "pygments_lexer": "ipython3",
   "version": "3.5.2"
  }
 },
 "nbformat": 4,
 "nbformat_minor": 0
}
