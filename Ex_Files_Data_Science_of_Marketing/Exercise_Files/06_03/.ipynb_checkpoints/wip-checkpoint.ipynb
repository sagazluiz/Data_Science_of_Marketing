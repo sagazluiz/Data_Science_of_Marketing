{
 "cells": [
  {
   "cell_type": "code",
   "execution_count": 1,
   "metadata": {
    "collapsed": true
   },
   "outputs": [],
   "source": [
    "import numpy as np\n",
    "import pandas as pd"
   ]
  },
  {
   "cell_type": "code",
   "execution_count": 4,
   "metadata": {
    "collapsed": false
   },
   "outputs": [],
   "source": [
    "# library(RCurl)\n",
    "# x <- getURL(\"https://raw.github.com/aronlindberg/latent_growth_classes/master/LGC_data.csv\")\n",
    "# y <- read.csv(text = x)\n",
    "\n",
    "caInputeDF = pd.read_csv(\"https://raw.githubusercontent.com/Herka/Traditional-Conjoint-Analysis-with-Python/master/ConJointInput.csv\", sep = \";\")"
   ]
  },
  {
   "cell_type": "code",
   "execution_count": 5,
   "metadata": {
    "collapsed": false
   },
   "outputs": [
    {
     "data": {
      "text/html": [
       "<div>\n",
       "<table border=\"1\" class=\"dataframe\">\n",
       "  <thead>\n",
       "    <tr style=\"text-align: right;\">\n",
       "      <th></th>\n",
       "      <th>Stimulus</th>\n",
       "      <th>Rank</th>\n",
       "    </tr>\n",
       "  </thead>\n",
       "  <tbody>\n",
       "    <tr>\n",
       "      <th>0</th>\n",
       "      <td>A1B1C1</td>\n",
       "      <td>2</td>\n",
       "    </tr>\n",
       "    <tr>\n",
       "      <th>1</th>\n",
       "      <td>A1B1C2</td>\n",
       "      <td>3</td>\n",
       "    </tr>\n",
       "    <tr>\n",
       "      <th>2</th>\n",
       "      <td>A1B1C3</td>\n",
       "      <td>1</td>\n",
       "    </tr>\n",
       "    <tr>\n",
       "      <th>3</th>\n",
       "      <td>A1B2C1</td>\n",
       "      <td>5</td>\n",
       "    </tr>\n",
       "    <tr>\n",
       "      <th>4</th>\n",
       "      <td>A1B2C2</td>\n",
       "      <td>6</td>\n",
       "    </tr>\n",
       "  </tbody>\n",
       "</table>\n",
       "</div>"
      ],
      "text/plain": [
       "  Stimulus  Rank\n",
       "0   A1B1C1     2\n",
       "1   A1B1C2     3\n",
       "2   A1B1C3     1\n",
       "3   A1B2C1     5\n",
       "4   A1B2C2     6"
      ]
     },
     "execution_count": 5,
     "metadata": {},
     "output_type": "execute_result"
    }
   ],
   "source": [
    "caInputeDF.head()"
   ]
  },
  {
   "cell_type": "code",
   "execution_count": 6,
   "metadata": {
    "collapsed": true
   },
   "outputs": [],
   "source": [
    "ConjointDummyDF = pd.DataFrame(np.zeros((18,9)), columns=[\"Rank\",\"A1\", \"A2\", \"A3\",\n",
    "                                                    \"B1\",\"B2\", \n",
    "                                                    \"C1\", \"C2\",\n",
    "                                                    \"C3\"])"
   ]
  },
  {
   "cell_type": "code",
   "execution_count": 7,
   "metadata": {
    "collapsed": true
   },
   "outputs": [],
   "source": [
    "ConjointDummyDF.Rank = caInputeDF.Rank\n",
    "\n",
    "for index, row in caInputeDF.iterrows(): \n",
    "    stimuli1, stimuli2, stimuli3 = caInputeDF[\"Stimulus\"].ix[index][:2], \\\n",
    "    caInputeDF[\"Stimulus\"].ix[index][2:4], caInputeDF[\"Stimulus\"].ix[index][4:6]\n",
    "    \n",
    "    \n",
    "    ConjointDummyDF.ix[index, [stimuli1,stimuli2,stimuli3]] = 1"
   ]
  },
  {
   "cell_type": "code",
   "execution_count": 8,
   "metadata": {
    "collapsed": false
   },
   "outputs": [
    {
     "data": {
      "text/html": [
       "<div>\n",
       "<table border=\"1\" class=\"dataframe\">\n",
       "  <thead>\n",
       "    <tr style=\"text-align: right;\">\n",
       "      <th></th>\n",
       "      <th>Rank</th>\n",
       "      <th>A1</th>\n",
       "      <th>A2</th>\n",
       "      <th>A3</th>\n",
       "      <th>B1</th>\n",
       "      <th>B2</th>\n",
       "      <th>C1</th>\n",
       "      <th>C2</th>\n",
       "      <th>C3</th>\n",
       "    </tr>\n",
       "  </thead>\n",
       "  <tbody>\n",
       "    <tr>\n",
       "      <th>0</th>\n",
       "      <td>2</td>\n",
       "      <td>1.0</td>\n",
       "      <td>0.0</td>\n",
       "      <td>0.0</td>\n",
       "      <td>1.0</td>\n",
       "      <td>0.0</td>\n",
       "      <td>1.0</td>\n",
       "      <td>0.0</td>\n",
       "      <td>0.0</td>\n",
       "    </tr>\n",
       "    <tr>\n",
       "      <th>1</th>\n",
       "      <td>3</td>\n",
       "      <td>1.0</td>\n",
       "      <td>0.0</td>\n",
       "      <td>0.0</td>\n",
       "      <td>1.0</td>\n",
       "      <td>0.0</td>\n",
       "      <td>0.0</td>\n",
       "      <td>1.0</td>\n",
       "      <td>0.0</td>\n",
       "    </tr>\n",
       "    <tr>\n",
       "      <th>2</th>\n",
       "      <td>1</td>\n",
       "      <td>1.0</td>\n",
       "      <td>0.0</td>\n",
       "      <td>0.0</td>\n",
       "      <td>1.0</td>\n",
       "      <td>0.0</td>\n",
       "      <td>0.0</td>\n",
       "      <td>0.0</td>\n",
       "      <td>1.0</td>\n",
       "    </tr>\n",
       "    <tr>\n",
       "      <th>3</th>\n",
       "      <td>5</td>\n",
       "      <td>1.0</td>\n",
       "      <td>0.0</td>\n",
       "      <td>0.0</td>\n",
       "      <td>0.0</td>\n",
       "      <td>1.0</td>\n",
       "      <td>1.0</td>\n",
       "      <td>0.0</td>\n",
       "      <td>0.0</td>\n",
       "    </tr>\n",
       "    <tr>\n",
       "      <th>4</th>\n",
       "      <td>6</td>\n",
       "      <td>1.0</td>\n",
       "      <td>0.0</td>\n",
       "      <td>0.0</td>\n",
       "      <td>0.0</td>\n",
       "      <td>1.0</td>\n",
       "      <td>0.0</td>\n",
       "      <td>1.0</td>\n",
       "      <td>0.0</td>\n",
       "    </tr>\n",
       "  </tbody>\n",
       "</table>\n",
       "</div>"
      ],
      "text/plain": [
       "   Rank   A1   A2   A3   B1   B2   C1   C2   C3\n",
       "0     2  1.0  0.0  0.0  1.0  0.0  1.0  0.0  0.0\n",
       "1     3  1.0  0.0  0.0  1.0  0.0  0.0  1.0  0.0\n",
       "2     1  1.0  0.0  0.0  1.0  0.0  0.0  0.0  1.0\n",
       "3     5  1.0  0.0  0.0  0.0  1.0  1.0  0.0  0.0\n",
       "4     6  1.0  0.0  0.0  0.0  1.0  0.0  1.0  0.0"
      ]
     },
     "execution_count": 8,
     "metadata": {},
     "output_type": "execute_result"
    }
   ],
   "source": [
    "ConjointDummyDF.head()\n"
   ]
  },
  {
   "cell_type": "code",
   "execution_count": 9,
   "metadata": {
    "collapsed": true
   },
   "outputs": [],
   "source": [
    "fullNames = {\"Rank\":\"Rank\", \\\n",
    "           \"A1\": \"32\\\" (81cm)\",\"A2\": \"37\\\" (94cm)\",\"A3\": \"42\\\" (107cm)\", \\\n",
    "          \"B1\": \"Plasma\", \"B2\":\"LCD\", \\\n",
    "           \"C1\":\"Silver\", \"C2\":\"Black\", \"C3\": \"Anthrazit\",\\\n",
    "          }\n",
    "\n",
    "ConjointDummyDF.rename(columns=fullNames, inplace=True)"
   ]
  },
  {
   "cell_type": "code",
   "execution_count": 10,
   "metadata": {
    "collapsed": false
   },
   "outputs": [
    {
     "data": {
      "text/html": [
       "<div>\n",
       "<table border=\"1\" class=\"dataframe\">\n",
       "  <thead>\n",
       "    <tr style=\"text-align: right;\">\n",
       "      <th></th>\n",
       "      <th>Rank</th>\n",
       "      <th>32\" (81cm)</th>\n",
       "      <th>37\" (94cm)</th>\n",
       "      <th>42\" (107cm)</th>\n",
       "      <th>Plasma</th>\n",
       "      <th>LCD</th>\n",
       "      <th>Silver</th>\n",
       "      <th>Black</th>\n",
       "      <th>Anthrazit</th>\n",
       "    </tr>\n",
       "  </thead>\n",
       "  <tbody>\n",
       "    <tr>\n",
       "      <th>0</th>\n",
       "      <td>2</td>\n",
       "      <td>1.0</td>\n",
       "      <td>0.0</td>\n",
       "      <td>0.0</td>\n",
       "      <td>1.0</td>\n",
       "      <td>0.0</td>\n",
       "      <td>1.0</td>\n",
       "      <td>0.0</td>\n",
       "      <td>0.0</td>\n",
       "    </tr>\n",
       "    <tr>\n",
       "      <th>1</th>\n",
       "      <td>3</td>\n",
       "      <td>1.0</td>\n",
       "      <td>0.0</td>\n",
       "      <td>0.0</td>\n",
       "      <td>1.0</td>\n",
       "      <td>0.0</td>\n",
       "      <td>0.0</td>\n",
       "      <td>1.0</td>\n",
       "      <td>0.0</td>\n",
       "    </tr>\n",
       "    <tr>\n",
       "      <th>2</th>\n",
       "      <td>1</td>\n",
       "      <td>1.0</td>\n",
       "      <td>0.0</td>\n",
       "      <td>0.0</td>\n",
       "      <td>1.0</td>\n",
       "      <td>0.0</td>\n",
       "      <td>0.0</td>\n",
       "      <td>0.0</td>\n",
       "      <td>1.0</td>\n",
       "    </tr>\n",
       "    <tr>\n",
       "      <th>3</th>\n",
       "      <td>5</td>\n",
       "      <td>1.0</td>\n",
       "      <td>0.0</td>\n",
       "      <td>0.0</td>\n",
       "      <td>0.0</td>\n",
       "      <td>1.0</td>\n",
       "      <td>1.0</td>\n",
       "      <td>0.0</td>\n",
       "      <td>0.0</td>\n",
       "    </tr>\n",
       "    <tr>\n",
       "      <th>4</th>\n",
       "      <td>6</td>\n",
       "      <td>1.0</td>\n",
       "      <td>0.0</td>\n",
       "      <td>0.0</td>\n",
       "      <td>0.0</td>\n",
       "      <td>1.0</td>\n",
       "      <td>0.0</td>\n",
       "      <td>1.0</td>\n",
       "      <td>0.0</td>\n",
       "    </tr>\n",
       "  </tbody>\n",
       "</table>\n",
       "</div>"
      ],
      "text/plain": [
       "   Rank  32\" (81cm)  37\" (94cm)  42\" (107cm)  Plasma  LCD  Silver  Black  \\\n",
       "0     2         1.0         0.0          0.0     1.0  0.0     1.0    0.0   \n",
       "1     3         1.0         0.0          0.0     1.0  0.0     0.0    1.0   \n",
       "2     1         1.0         0.0          0.0     1.0  0.0     0.0    0.0   \n",
       "3     5         1.0         0.0          0.0     0.0  1.0     1.0    0.0   \n",
       "4     6         1.0         0.0          0.0     0.0  1.0     0.0    1.0   \n",
       "\n",
       "   Anthrazit  \n",
       "0        0.0  \n",
       "1        0.0  \n",
       "2        1.0  \n",
       "3        0.0  \n",
       "4        0.0  "
      ]
     },
     "execution_count": 10,
     "metadata": {},
     "output_type": "execute_result"
    }
   ],
   "source": [
    "ConjointDummyDF.head()\n"
   ]
  },
  {
   "cell_type": "code",
   "execution_count": 11,
   "metadata": {
    "collapsed": true
   },
   "outputs": [],
   "source": [
    "import statsmodels.api as sm"
   ]
  },
  {
   "cell_type": "code",
   "execution_count": 12,
   "metadata": {
    "collapsed": false
   },
   "outputs": [
    {
     "data": {
      "text/plain": [
       "Index(['Rank', '32\" (81cm)', '37\" (94cm)', '42\" (107cm)', 'Plasma', 'LCD',\n",
       "       'Silver', 'Black', 'Anthrazit'],\n",
       "      dtype='object')"
      ]
     },
     "execution_count": 12,
     "metadata": {},
     "output_type": "execute_result"
    }
   ],
   "source": [
    "ConjointDummyDF.columns\n"
   ]
  },
  {
   "cell_type": "code",
   "execution_count": 13,
   "metadata": {
    "collapsed": false
   },
   "outputs": [
    {
     "name": "stderr",
     "output_type": "stream",
     "text": [
      "/Users/Shepp/anaconda3/lib/python3.5/site-packages/scipy/stats/stats.py:1535: UserWarning: kurtosistest only valid for n>=20 ... continuing anyway, n=18\n",
      "  \"anyway, n=%i\" % int(n))\n"
     ]
    },
    {
     "data": {
      "text/html": [
       "<table class=\"simpletable\">\n",
       "<caption>OLS Regression Results</caption>\n",
       "<tr>\n",
       "  <th>Dep. Variable:</th>          <td>Rank</td>       <th>  R-squared:         </th> <td>   1.000</td> \n",
       "</tr>\n",
       "<tr>\n",
       "  <th>Model:</th>                   <td>OLS</td>       <th>  Adj. R-squared:    </th> <td>   1.000</td> \n",
       "</tr>\n",
       "<tr>\n",
       "  <th>Method:</th>             <td>Least Squares</td>  <th>  F-statistic:       </th> <td>2.592e+30</td>\n",
       "</tr>\n",
       "<tr>\n",
       "  <th>Date:</th>             <td>Sun, 27 Nov 2016</td> <th>  Prob (F-statistic):</th> <td>9.25e-180</td>\n",
       "</tr>\n",
       "<tr>\n",
       "  <th>Time:</th>                 <td>11:58:46</td>     <th>  Log-Likelihood:    </th> <td>  567.21</td> \n",
       "</tr>\n",
       "<tr>\n",
       "  <th>No. Observations:</th>      <td>    18</td>      <th>  AIC:               </th> <td>  -1122.</td> \n",
       "</tr>\n",
       "<tr>\n",
       "  <th>Df Residuals:</th>          <td>    12</td>      <th>  BIC:               </th> <td>  -1117.</td> \n",
       "</tr>\n",
       "<tr>\n",
       "  <th>Df Model:</th>              <td>     5</td>      <th>                     </th>     <td> </td>    \n",
       "</tr>\n",
       "<tr>\n",
       "  <th>Covariance Type:</th>      <td>nonrobust</td>    <th>                     </th>     <td> </td>    \n",
       "</tr>\n",
       "</table>\n",
       "<table class=\"simpletable\">\n",
       "<tr>\n",
       "       <td></td>          <th>coef</th>     <th>std err</th>      <th>t</th>      <th>P>|t|</th> <th>[95.0% Conf. Int.]</th> \n",
       "</tr>\n",
       "<tr>\n",
       "  <th>const</th>       <td>    4.3846</td> <td> 6.65e-16</td> <td> 6.59e+15</td> <td> 0.000</td> <td>    4.385     4.385</td>\n",
       "</tr>\n",
       "<tr>\n",
       "  <th>32\" (81cm)</th>  <td>   -4.5385</td> <td> 2.05e-15</td> <td>-2.21e+15</td> <td> 0.000</td> <td>   -4.538    -4.538</td>\n",
       "</tr>\n",
       "<tr>\n",
       "  <th>37\" (94cm)</th>  <td>    1.4615</td> <td> 2.05e-15</td> <td> 7.13e+14</td> <td> 0.000</td> <td>    1.462     1.462</td>\n",
       "</tr>\n",
       "<tr>\n",
       "  <th>42\" (107cm)</th> <td>    7.4615</td> <td> 2.05e-15</td> <td> 3.64e+15</td> <td> 0.000</td> <td>    7.462     7.462</td>\n",
       "</tr>\n",
       "<tr>\n",
       "  <th>Plasma</th>      <td>    0.6923</td> <td> 1.48e-15</td> <td> 4.68e+14</td> <td> 0.000</td> <td>    0.692     0.692</td>\n",
       "</tr>\n",
       "<tr>\n",
       "  <th>LCD</th>         <td>    3.6923</td> <td> 1.48e-15</td> <td>  2.5e+15</td> <td> 0.000</td> <td>    3.692     3.692</td>\n",
       "</tr>\n",
       "<tr>\n",
       "  <th>Silver</th>      <td>    1.4615</td> <td> 2.05e-15</td> <td> 7.13e+14</td> <td> 0.000</td> <td>    1.462     1.462</td>\n",
       "</tr>\n",
       "<tr>\n",
       "  <th>Black</th>       <td>    2.4615</td> <td> 2.05e-15</td> <td>  1.2e+15</td> <td> 0.000</td> <td>    2.462     2.462</td>\n",
       "</tr>\n",
       "<tr>\n",
       "  <th>Anthrazit</th>   <td>    0.4615</td> <td> 2.05e-15</td> <td> 2.25e+14</td> <td> 0.000</td> <td>    0.462     0.462</td>\n",
       "</tr>\n",
       "</table>\n",
       "<table class=\"simpletable\">\n",
       "<tr>\n",
       "  <th>Omnibus:</th>       <td> 1.763</td> <th>  Durbin-Watson:     </th> <td>   0.774</td>\n",
       "</tr>\n",
       "<tr>\n",
       "  <th>Prob(Omnibus):</th> <td> 0.414</td> <th>  Jarque-Bera (JB):  </th> <td>   0.994</td>\n",
       "</tr>\n",
       "<tr>\n",
       "  <th>Skew:</th>          <td> 0.165</td> <th>  Prob(JB):          </th> <td>   0.608</td>\n",
       "</tr>\n",
       "<tr>\n",
       "  <th>Kurtosis:</th>      <td> 1.897</td> <th>  Cond. No.          </th> <td>6.60e+16</td>\n",
       "</tr>\n",
       "</table>"
      ],
      "text/plain": [
       "<class 'statsmodels.iolib.summary.Summary'>\n",
       "\"\"\"\n",
       "                            OLS Regression Results                            \n",
       "==============================================================================\n",
       "Dep. Variable:                   Rank   R-squared:                       1.000\n",
       "Model:                            OLS   Adj. R-squared:                  1.000\n",
       "Method:                 Least Squares   F-statistic:                 2.592e+30\n",
       "Date:                Sun, 27 Nov 2016   Prob (F-statistic):          9.25e-180\n",
       "Time:                        11:58:46   Log-Likelihood:                 567.21\n",
       "No. Observations:                  18   AIC:                            -1122.\n",
       "Df Residuals:                      12   BIC:                            -1117.\n",
       "Df Model:                           5                                         \n",
       "Covariance Type:            nonrobust                                         \n",
       "===============================================================================\n",
       "                  coef    std err          t      P>|t|      [95.0% Conf. Int.]\n",
       "-------------------------------------------------------------------------------\n",
       "const           4.3846   6.65e-16   6.59e+15      0.000         4.385     4.385\n",
       "32\" (81cm)     -4.5385   2.05e-15  -2.21e+15      0.000        -4.538    -4.538\n",
       "37\" (94cm)      1.4615   2.05e-15   7.13e+14      0.000         1.462     1.462\n",
       "42\" (107cm)     7.4615   2.05e-15   3.64e+15      0.000         7.462     7.462\n",
       "Plasma          0.6923   1.48e-15   4.68e+14      0.000         0.692     0.692\n",
       "LCD             3.6923   1.48e-15    2.5e+15      0.000         3.692     3.692\n",
       "Silver          1.4615   2.05e-15   7.13e+14      0.000         1.462     1.462\n",
       "Black           2.4615   2.05e-15    1.2e+15      0.000         2.462     2.462\n",
       "Anthrazit       0.4615   2.05e-15   2.25e+14      0.000         0.462     0.462\n",
       "==============================================================================\n",
       "Omnibus:                        1.763   Durbin-Watson:                   0.774\n",
       "Prob(Omnibus):                  0.414   Jarque-Bera (JB):                0.994\n",
       "Skew:                           0.165   Prob(JB):                        0.608\n",
       "Kurtosis:                       1.897   Cond. No.                     6.60e+16\n",
       "==============================================================================\n",
       "\n",
       "Warnings:\n",
       "[1] Standard Errors assume that the covariance matrix of the errors is correctly specified.\n",
       "[2] The smallest eigenvalue is 8.96e-33. This might indicate that there are\n",
       "strong multicollinearity problems or that the design matrix is singular.\n",
       "\"\"\""
      ]
     },
     "execution_count": 13,
     "metadata": {},
     "output_type": "execute_result"
    }
   ],
   "source": [
    "X = ConjointDummyDF[[u'32\" (81cm)', u'37\" (94cm)', u'42\" (107cm)', u'Plasma',\\\n",
    "       u'LCD', u'Silver', u'Black', u'Anthrazit']]\n",
    "X = sm.add_constant(X)\n",
    "Y = ConjointDummyDF.Rank\n",
    "linearRegression = sm.OLS(Y, X). fit()\n",
    "linearRegression.summary()"
   ]
  },
  {
   "cell_type": "code",
   "execution_count": 14,
   "metadata": {
    "collapsed": true
   },
   "outputs": [],
   "source": [
    "importance = []\n",
    "relative_importance = []\n",
    "\n",
    "rangePerFeature = []\n",
    "\n",
    "begin = \"A\"\n",
    "tempRange = []\n",
    "for stimuli in fullNames.keys():\n",
    "    if stimuli[0] == begin:\n",
    "        tempRange.append(linearRegression.params[fullNames[stimuli]])\n",
    "    elif stimuli == \"Rank\":\n",
    "        rangePerFeature.append(tempRange)\n",
    "    else:\n",
    "        rangePerFeature.append(tempRange)\n",
    "        begin = stimuli[0]\n",
    "        tempRange = [linearRegression.params[fullNames[stimuli]]]\n",
    "        "
   ]
  },
  {
   "cell_type": "code",
   "execution_count": 15,
   "metadata": {
    "collapsed": true
   },
   "outputs": [],
   "source": [
    "for item in rangePerFeature:\n",
    "    importance.append( max(item) - min(item))\n",
    "\n",
    "for item in importance:\n",
    "    relative_importance.append(100* round(item/sum(importance),3))"
   ]
  },
  {
   "cell_type": "code",
   "execution_count": 17,
   "metadata": {
    "collapsed": false
   },
   "outputs": [
    {
     "name": "stdout",
     "output_type": "stream",
     "text": [
      "32\" (81cm)   -4.538462\n",
      "37\" (94cm)    1.461538\n",
      "dtype: float64\n",
      "42\" (107cm)    7.461538\n",
      "Plasma         0.692308\n",
      "dtype: float64\n",
      "LCD       3.692308\n",
      "Silver    1.461538\n",
      "Black     2.461538\n",
      "dtype: float64\n"
     ]
    }
   ],
   "source": [
    "partworths = []\n",
    "\n",
    "item_levels = [1,3,5,8]\n",
    "\n",
    "for i in range(1,4):\n",
    "    part_worth_range = linearRegression.params[item_levels[i-1]:item_levels[i]]\n",
    "    print (part_worth_range)"
   ]
  },
  {
   "cell_type": "code",
   "execution_count": 18,
   "metadata": {
    "collapsed": true
   },
   "outputs": [],
   "source": [
    "meanRank = []\n",
    "for i in ConjointDummyDF.columns[1:]:\n",
    "    newmeanRank = ConjointDummyDF[\"Rank\"].loc[ConjointDummyDF[i] == 1].mean()\n",
    "    meanRank.append(newmeanRank)\n",
    "\n",
    "    \n",
    "#total Mean or, \"basic utility\" is used as the \"zero alternative\"\n",
    "totalMeanRank = sum(meanRank) / len(meanRank)\n",
    "\n",
    "\n",
    "\n",
    "partWorths = {}\n",
    "for i in range(len(meanRank)):\n",
    "    name = fullNames[sorted(fullNames.keys())[i]]\n",
    "    partWorths[name] = meanRank[i] - totalMeanRank"
   ]
  },
  {
   "cell_type": "code",
   "execution_count": 19,
   "metadata": {
    "collapsed": false
   },
   "outputs": [
    {
     "data": {
      "text/plain": [
       "{'32\" (81cm)': -6.0,\n",
       " '37\" (94cm)': 0.0,\n",
       " '42\" (107cm)': 6.0,\n",
       " 'Anthrazit': -1.0,\n",
       " 'Black': 1.0,\n",
       " 'LCD': 1.5,\n",
       " 'Plasma': -1.5,\n",
       " 'Silver': 0.0}"
      ]
     },
     "execution_count": 19,
     "metadata": {},
     "output_type": "execute_result"
    }
   ],
   "source": [
    "partWorths\n"
   ]
  },
  {
   "cell_type": "code",
   "execution_count": 26,
   "metadata": {
    "collapsed": false
   },
   "outputs": [
    {
     "ename": "SyntaxError",
     "evalue": "Missing parentheses in call to 'print' (<ipython-input-26-2eeae78e92bd>, line 1)",
     "output_type": "error",
     "traceback": [
      "\u001b[0;36m  File \u001b[0;32m\"<ipython-input-26-2eeae78e92bd>\"\u001b[0;36m, line \u001b[0;32m1\u001b[0m\n\u001b[0;31m    print \"Relative Importance of Feature:\\n\\nMonitor Size:\",relative_importance[0], \"%\",\"\\nType of Monitor:\", relative_importance[1], \"%\", \"\\nColor of TV:\", relative_importance[2], \"%\\n\\n\"\u001b[0m\n\u001b[0m                                                           ^\u001b[0m\n\u001b[0;31mSyntaxError\u001b[0m\u001b[0;31m:\u001b[0m Missing parentheses in call to 'print'\n"
     ]
    }
   ],
   "source": [
    "print \"Relative Importance of Feature:\\n\\nMonitor Size:\",relative_importance[0], \"%\",\\\n",
    "\"\\nType of Monitor:\", relative_importance[1], \"%\", \"\\nColor of TV:\", relative_importance[2], \"%\\n\\n\"\n",
    "\n",
    "print \"--\"*30\n",
    "\n",
    "print \"Importance of Feature:\\n\\nMonitor Size:\",importance[0],\\\n",
    "\"\\nType of Monitor:\", importance[1],  \"\\nColor of TV:\", importance[2]"
   ]
  },
  {
   "cell_type": "code",
   "execution_count": 28,
   "metadata": {
    "collapsed": false
   },
   "outputs": [
    {
     "name": "stdout",
     "output_type": "stream",
     "text": [
      "The best possible Combination of Stimuli would have the highest rank:\n"
     ]
    },
    {
     "data": {
      "text/plain": [
       "(None, 18.0)"
      ]
     },
     "execution_count": 28,
     "metadata": {},
     "output_type": "execute_result"
    }
   ],
   "source": [
    "#As array that looks like X\n",
    "#Must include Constant!\n",
    "\n",
    "optBundle = [1,0,0,1,0,1,0,1,0]\n",
    "print (\"The best possible Combination of Stimuli would have the highest rank:\"),\\\n",
    "linearRegression.predict(optBundle)[0]"
   ]
  },
  {
   "cell_type": "code",
   "execution_count": 29,
   "metadata": {
    "collapsed": false
   },
   "outputs": [
    {
     "name": "stdout",
     "output_type": "stream",
     "text": [
      "Choosing the optimal Combination brings the user an additional \n"
     ]
    },
    {
     "data": {
      "text/plain": [
       "(None, 8.5, \"'units' of utility\")"
      ]
     },
     "execution_count": 29,
     "metadata": {},
     "output_type": "execute_result"
    }
   ],
   "source": [
    "#Optimal Bundle:\n",
    "#42\", LCD, Black\n",
    "\n",
    "optimalWorth = partWorths[\"42\\\" (107cm)\"] + partWorths[\"LCD\"] + partWorths[\"Black\"]\n",
    "\n",
    "print (\"Choosing the optimal Combination brings the user an additional \"), optimalWorth, \"'units' of utility\""
   ]
  },
  {
   "cell_type": "code",
   "execution_count": null,
   "metadata": {
    "collapsed": true
   },
   "outputs": [],
   "source": []
  }
 ],
 "metadata": {
  "anaconda-cloud": {},
  "kernelspec": {
   "display_name": "Python [Root]",
   "language": "python",
   "name": "Python [Root]"
  },
  "language_info": {
   "codemirror_mode": {
    "name": "ipython",
    "version": 3
   },
   "file_extension": ".py",
   "mimetype": "text/x-python",
   "name": "python",
   "nbconvert_exporter": "python",
   "pygments_lexer": "ipython3",
   "version": "3.5.2"
  }
 },
 "nbformat": 4,
 "nbformat_minor": 0
}
