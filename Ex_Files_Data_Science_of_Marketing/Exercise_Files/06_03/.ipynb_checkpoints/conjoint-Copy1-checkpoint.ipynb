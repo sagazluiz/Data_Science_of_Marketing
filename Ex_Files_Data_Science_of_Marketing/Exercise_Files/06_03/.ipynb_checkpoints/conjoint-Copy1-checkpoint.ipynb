{
 "cells": [
  {
   "cell_type": "code",
   "execution_count": 1,
   "metadata": {
    "collapsed": true
   },
   "outputs": [],
   "source": [
    "# Load in our packages\n",
    "\n",
    "import numpy as np\n",
    "import pandas as pd\n",
    "import statsmodels.api as sm\n",
    "import matplotlib.pyplot as plt\n",
    "%matplotlib inline"
   ]
  },
  {
   "cell_type": "code",
   "execution_count": 2,
   "metadata": {
    "collapsed": false
   },
   "outputs": [],
   "source": [
    "# Connect to our data\n",
    "\n",
    "myConjointData = pd.read_csv('~/Desktop/Exercise_Files/06_03/conjoint-py.csv')"
   ]
  },
  {
   "cell_type": "code",
   "execution_count": 7,
   "metadata": {
    "collapsed": false
   },
   "outputs": [],
   "source": [
    "# See a snapshot of our data"
   ]
  },
  {
   "cell_type": "code",
   "execution_count": 8,
   "metadata": {
    "collapsed": false
   },
   "outputs": [],
   "source": [
    "# Update the names of our vectors\n",
    "\n",
    "names = {\"Rank\":\"Rank\", \"P1\": \"PhotoF1\",\"P2\": \"PhotoF2\", \"U1\": \"Ux1\", \\\n",
    "         \"U2\": \"Ux2\", \"D1\":\"SpecialSauce1\", \\\n",
    "         \"D2\":\"SpecialSauce2\", \"D3\":\"SpecialSauce3\"\\\n",
    "        }\n",
    "\n",
    "\n",
    "# Apply those new names\n",
    "\n",
    "# Confirm all is as we intended "
   ]
  },
  {
   "cell_type": "code",
   "execution_count": 9,
   "metadata": {
    "collapsed": false
   },
   "outputs": [],
   "source": [
    "# Assign our test data to the x\n",
    "X = myConjointData[['PhotoF1', 'PhotoF2', 'Ux1', 'Ux2', 'SpecialSauce1', \\\n",
    "                    'SpecialSauce2', 'SpecialSauce3']]\n",
    "                 \n",
    "# Assign a constant\n",
    "\n",
    "# Assign our resulting test data to the y\n",
    "\n",
    "# Perform a linear regression model \n"
   ]
  },
  {
   "cell_type": "code",
   "execution_count": 10,
   "metadata": {
    "collapsed": false
   },
   "outputs": [
    {
     "data": {
      "text/plain": [
       "[]"
      ]
     },
     "execution_count": 10,
     "metadata": {},
     "output_type": "execute_result"
    }
   ],
   "source": [
    "# Normalize values for each feature \n",
    "raw = []\n",
    "norm = [float(i)/sum(raw) for i in raw]\n",
    "norm"
   ]
  },
  {
   "cell_type": "code",
   "execution_count": 14,
   "metadata": {
    "collapsed": false
   },
   "outputs": [],
   "source": [
    "# Graph our winning product features\n",
    "\n",
    "labels = 'Special Sauce Feature Three', 'User Experience Feature One', 'Photo Feature One'\n",
    "sizes = [39, 32, 29]\n",
    "colors = ['yellowgreen', 'mediumpurple', 'lightskyblue'] \n",
    "explode = (0, 0.1, 0)    \n",
    "plt.pie(sizes,              \n",
    "        explode=explode,   \n",
    "        labels=labels,      \n",
    "        colors=colors,      \n",
    "        autopct='%1.1f%%',  \n",
    "        shadow=True,        \n",
    "        startangle=70       \n",
    "        )\n",
    "\n",
    "plt.axis('equal')\n"
   ]
  }
 ],
 "metadata": {
  "anaconda-cloud": {},
  "kernelspec": {
   "display_name": "Python [conda root]",
   "language": "python",
   "name": "conda-root-py"
  },
  "language_info": {
   "codemirror_mode": {
    "name": "ipython",
    "version": 3
   },
   "file_extension": ".py",
   "mimetype": "text/x-python",
   "name": "python",
   "nbconvert_exporter": "python",
   "pygments_lexer": "ipython3",
   "version": "3.5.2"
  }
 },
 "nbformat": 4,
 "nbformat_minor": 0
}
