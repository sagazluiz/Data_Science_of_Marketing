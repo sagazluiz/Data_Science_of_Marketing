{
 "cells": [
  {
   "cell_type": "code",
   "execution_count": 14,
   "metadata": {
    "collapsed": true
   },
   "outputs": [],
   "source": [
    "import pandas as pd\n",
    "import numpy as np"
   ]
  },
  {
   "cell_type": "code",
   "execution_count": 15,
   "metadata": {
    "collapsed": false
   },
   "outputs": [],
   "source": [
    "myPredictionData = pd.read_csv( \"~/Documents/devel/dsom/5-prediction/data/prediction_py_data.csv\" )"
   ]
  },
  {
   "cell_type": "code",
   "execution_count": 16,
   "metadata": {
    "collapsed": false
   },
   "outputs": [
    {
     "name": "stdout",
     "output_type": "stream",
     "text": [
      "<class 'pandas.core.frame.DataFrame'>\n",
      "RangeIndex: 300 entries, 0 to 299\n",
      "Data columns (total 11 columns):\n",
      "sales                           300 non-null object\n",
      "sales_classification            300 non-null int64\n",
      "capita                          300 non-null int64\n",
      "drive-by-traffic                300 non-null int64\n",
      "complimentary-establishments    300 non-null int64\n",
      "competition                     300 non-null int64\n",
      "weather                         300 non-null int64\n",
      "unemployment-rate               300 non-null float64\n",
      "var1                            300 non-null int64\n",
      "var2                            300 non-null int64\n",
      "var3                            300 non-null int64\n",
      "dtypes: float64(1), int64(9), object(1)\n",
      "memory usage: 25.9+ KB\n"
     ]
    }
   ],
   "source": [
    "myPredictionData.info()"
   ]
  },
  {
   "cell_type": "code",
   "execution_count": 17,
   "metadata": {
    "collapsed": false
   },
   "outputs": [
    {
     "data": {
      "text/plain": [
       "Index(['sales', 'sales_classification', 'capita', 'drive-by-traffic',\n",
       "       'complimentary-establishments', 'competition', 'weather',\n",
       "       'unemployment-rate', 'var1', 'var2', 'var3'],\n",
       "      dtype='object')"
      ]
     },
     "execution_count": 17,
     "metadata": {},
     "output_type": "execute_result"
    }
   ],
   "source": [
    "myPredictionData.columns"
   ]
  },
  {
   "cell_type": "code",
   "execution_count": 18,
   "metadata": {
    "collapsed": false
   },
   "outputs": [
    {
     "data": {
      "text/html": [
       "<div>\n",
       "<table border=\"1\" class=\"dataframe\">\n",
       "  <thead>\n",
       "    <tr style=\"text-align: right;\">\n",
       "      <th></th>\n",
       "      <th>sales</th>\n",
       "      <th>sales_classification</th>\n",
       "      <th>capita</th>\n",
       "      <th>drive-by-traffic</th>\n",
       "      <th>complimentary-establishments</th>\n",
       "      <th>competition</th>\n",
       "      <th>weather</th>\n",
       "      <th>unemployment-rate</th>\n",
       "      <th>var1</th>\n",
       "      <th>var2</th>\n",
       "      <th>var3</th>\n",
       "    </tr>\n",
       "  </thead>\n",
       "  <tbody>\n",
       "    <tr>\n",
       "      <th>0</th>\n",
       "      <td>$73,966</td>\n",
       "      <td>0</td>\n",
       "      <td>785778</td>\n",
       "      <td>46364</td>\n",
       "      <td>6</td>\n",
       "      <td>0</td>\n",
       "      <td>4</td>\n",
       "      <td>0.48</td>\n",
       "      <td>5</td>\n",
       "      <td>1</td>\n",
       "      <td>22</td>\n",
       "    </tr>\n",
       "    <tr>\n",
       "      <th>1</th>\n",
       "      <td>$96,116</td>\n",
       "      <td>1</td>\n",
       "      <td>1879898</td>\n",
       "      <td>35541</td>\n",
       "      <td>5</td>\n",
       "      <td>0</td>\n",
       "      <td>5</td>\n",
       "      <td>0.60</td>\n",
       "      <td>1</td>\n",
       "      <td>2</td>\n",
       "      <td>39</td>\n",
       "    </tr>\n",
       "  </tbody>\n",
       "</table>\n",
       "</div>"
      ],
      "text/plain": [
       "      sales  sales_classification   capita  drive-by-traffic  \\\n",
       "0  $73,966                      0   785778             46364   \n",
       "1  $96,116                      1  1879898             35541   \n",
       "\n",
       "   complimentary-establishments  competition  weather  unemployment-rate  \\\n",
       "0                             6            0        4               0.48   \n",
       "1                             5            0        5               0.60   \n",
       "\n",
       "   var1  var2  var3  \n",
       "0     5     1    22  \n",
       "1     1     2    39  "
      ]
     },
     "execution_count": 18,
     "metadata": {},
     "output_type": "execute_result"
    }
   ],
   "source": [
    "myPredictionData.head(2)"
   ]
  },
  {
   "cell_type": "code",
   "execution_count": 19,
   "metadata": {
    "collapsed": false
   },
   "outputs": [
    {
     "data": {
      "text/plain": [
       "0    215\n",
       "1     85\n",
       "Name: sales_classification, dtype: int64"
      ]
     },
     "execution_count": 19,
     "metadata": {},
     "output_type": "execute_result"
    }
   ],
   "source": [
    "myPredictionData.sales_classification.value_counts()"
   ]
  },
  {
   "cell_type": "code",
   "execution_count": 20,
   "metadata": {
    "collapsed": false
   },
   "outputs": [],
   "source": [
    "salesClassDataOnly = pd.DataFrame( myPredictionData.sales_classification.value_counts() )"
   ]
  },
  {
   "cell_type": "code",
   "execution_count": 21,
   "metadata": {
    "collapsed": false
   },
   "outputs": [
    {
     "data": {
      "text/html": [
       "<div>\n",
       "<table border=\"1\" class=\"dataframe\">\n",
       "  <thead>\n",
       "    <tr style=\"text-align: right;\">\n",
       "      <th></th>\n",
       "      <th>sales_classification</th>\n",
       "    </tr>\n",
       "  </thead>\n",
       "  <tbody>\n",
       "    <tr>\n",
       "      <th>0</th>\n",
       "      <td>215</td>\n",
       "    </tr>\n",
       "    <tr>\n",
       "      <th>1</th>\n",
       "      <td>85</td>\n",
       "    </tr>\n",
       "  </tbody>\n",
       "</table>\n",
       "</div>"
      ],
      "text/plain": [
       "   sales_classification\n",
       "0                   215\n",
       "1                    85"
      ]
     },
     "execution_count": 21,
     "metadata": {},
     "output_type": "execute_result"
    }
   ],
   "source": [
    "salesClassDataOnly"
   ]
  },
  {
   "cell_type": "code",
   "execution_count": 22,
   "metadata": {
    "collapsed": false
   },
   "outputs": [
    {
     "data": {
      "text/html": [
       "<div>\n",
       "<table border=\"1\" class=\"dataframe\">\n",
       "  <thead>\n",
       "    <tr style=\"text-align: right;\">\n",
       "      <th></th>\n",
       "      <th>sales_classification</th>\n",
       "      <th>classification</th>\n",
       "    </tr>\n",
       "  </thead>\n",
       "  <tbody>\n",
       "    <tr>\n",
       "      <th>0</th>\n",
       "      <td>215</td>\n",
       "      <td>0</td>\n",
       "    </tr>\n",
       "    <tr>\n",
       "      <th>1</th>\n",
       "      <td>85</td>\n",
       "      <td>1</td>\n",
       "    </tr>\n",
       "  </tbody>\n",
       "</table>\n",
       "</div>"
      ],
      "text/plain": [
       "   sales_classification  classification\n",
       "0                   215               0\n",
       "1                    85               1"
      ]
     },
     "execution_count": 22,
     "metadata": {},
     "output_type": "execute_result"
    }
   ],
   "source": [
    "salesClassDataOnly['classification'] = salesClassDataOnly.index\n",
    "salesClassDataOnlyAppend = salesClassDataOnly\n",
    "salesClassDataOnlyAppend"
   ]
  },
  {
   "cell_type": "code",
   "execution_count": 23,
   "metadata": {
    "collapsed": true
   },
   "outputs": [],
   "source": [
    "import seaborn as sn"
   ]
  },
  {
   "cell_type": "code",
   "execution_count": 25,
   "metadata": {
    "collapsed": false
   },
   "outputs": [
    {
     "data": {
      "text/plain": [
       "<matplotlib.axes._subplots.AxesSubplot at 0x117eacb38>"
      ]
     },
     "execution_count": 25,
     "metadata": {},
     "output_type": "execute_result"
    }
   ],
   "source": [
    "sn.barplot(  x = 'classification', y = 'sales_classification', data = salesClassDataOnly )\n",
    "#v2 consider different viz"
   ]
  },
  {
   "cell_type": "code",
   "execution_count": 26,
   "metadata": {
    "collapsed": false
   },
   "outputs": [],
   "source": [
    "# so here i'm turning the values from these vectors into quant data \n",
    "\n",
    "#saheart_model_df = pd.get_dummies( saheart_ds )\n",
    "#saheart_model_df = pd.get_dummies( df )\n",
    "\n",
    "# wait - i don't think i need to do this step as my data is already quant\n",
    "\n",
    "# myPredictionData_append = pd.get_dummies( myPredictionData )\n",
    "\n",
    "# myPredictionData.head()\n"
   ]
  },
  {
   "cell_type": "code",
   "execution_count": 27,
   "metadata": {
    "collapsed": false
   },
   "outputs": [],
   "source": [
    "# myPredictionData_append.head()"
   ]
  },
  {
   "cell_type": "code",
   "execution_count": 28,
   "metadata": {
    "collapsed": false
   },
   "outputs": [],
   "source": [
    "#saheart_model_df.columns"
   ]
  },
  {
   "cell_type": "code",
   "execution_count": 29,
   "metadata": {
    "collapsed": false
   },
   "outputs": [],
   "source": [
    "from sklearn.cross_validation import train_test_split\n",
    "\n",
    "feature_cols = ['capita', 'competition', 'weather',\n",
    "                 'var1', 'var2',\n",
    "                 'var3' ]\n",
    " \n",
    "train_X, test_X,  \\\n",
    "train_y, test_y = train_test_split( myPredictionData[feature_cols],\n",
    "                                    myPredictionData['sales_classification'],\n",
    "                                    test_size = 0.3,\n",
    "                                    random_state = 42 )"
   ]
  },
  {
   "cell_type": "code",
   "execution_count": 30,
   "metadata": {
    "collapsed": false
   },
   "outputs": [
    {
     "data": {
      "text/plain": [
       "210"
      ]
     },
     "execution_count": 30,
     "metadata": {},
     "output_type": "execute_result"
    }
   ],
   "source": [
    "# Return the length (the number of items) of an object. The argument may be a sequence (such as a string, bytes, tuple, list, or range) or a collection (such as a dictionary, set, or frozen set).\n",
    "len( train_X )\n"
   ]
  },
  {
   "cell_type": "code",
   "execution_count": 31,
   "metadata": {
    "collapsed": false
   },
   "outputs": [
    {
     "data": {
      "text/plain": [
       "90"
      ]
     },
     "execution_count": 31,
     "metadata": {},
     "output_type": "execute_result"
    }
   ],
   "source": [
    "len( test_X )\n"
   ]
  },
  {
   "cell_type": "code",
   "execution_count": 32,
   "metadata": {
    "collapsed": true
   },
   "outputs": [],
   "source": [
    "from sklearn import metrics"
   ]
  },
  {
   "cell_type": "code",
   "execution_count": 33,
   "metadata": {
    "collapsed": true
   },
   "outputs": [],
   "source": [
    "from sklearn.tree import DecisionTreeClassifier, export_graphviz, export"
   ]
  },
  {
   "cell_type": "code",
   "execution_count": 34,
   "metadata": {
    "collapsed": false
   },
   "outputs": [
    {
     "name": "stdout",
     "output_type": "stream",
     "text": [
      "Tree Depth:  2  - Accuracy:  0.677777777778\n",
      "Tree Depth:  3  - Accuracy:  0.677777777778\n",
      "Tree Depth:  4  - Accuracy:  0.677777777778\n",
      "Tree Depth:  5  - Accuracy:  0.655555555556\n",
      "Tree Depth:  6  - Accuracy:  0.622222222222\n",
      "Tree Depth:  7  - Accuracy:  0.622222222222\n",
      "Tree Depth:  8  - Accuracy:  0.633333333333\n"
     ]
    }
   ],
   "source": [
    "depths_list = [2,3,4,5,6,7,8]\n",
    "\n",
    "for depth in depths_list:\n",
    "    clf_tree = DecisionTreeClassifier( max_depth = depth )\n",
    "    clf_tree.fit( train_X, train_y )\n",
    "\n",
    "    print( \"Tree Depth: \",\n",
    "          depth,\n",
    "          \" - Accuracy: \",\n",
    "          metrics.accuracy_score( test_y, clf_tree.predict( test_X ) ) )"
   ]
  },
  {
   "cell_type": "code",
   "execution_count": 35,
   "metadata": {
    "collapsed": true
   },
   "outputs": [],
   "source": [
    "clf_tree = DecisionTreeClassifier( max_depth = 2 )"
   ]
  },
  {
   "cell_type": "code",
   "execution_count": 36,
   "metadata": {
    "collapsed": false
   },
   "outputs": [
    {
     "data": {
      "text/plain": [
       "DecisionTreeClassifier(class_weight=None, criterion='gini', max_depth=2,\n",
       "            max_features=None, max_leaf_nodes=None, min_samples_leaf=1,\n",
       "            min_samples_split=2, min_weight_fraction_leaf=0.0,\n",
       "            presort=False, random_state=None, splitter='best')"
      ]
     },
     "execution_count": 36,
     "metadata": {},
     "output_type": "execute_result"
    }
   ],
   "source": [
    "clf_tree.fit( train_X, train_y )"
   ]
  },
  {
   "cell_type": "code",
   "execution_count": 37,
   "metadata": {
    "collapsed": false
   },
   "outputs": [],
   "source": [
    "tree_predict = clf_tree.predict( test_X )"
   ]
  },
  {
   "cell_type": "code",
   "execution_count": 38,
   "metadata": {
    "collapsed": false
   },
   "outputs": [
    {
     "data": {
      "text/plain": [
       "0.67777777777777781"
      ]
     },
     "execution_count": 38,
     "metadata": {},
     "output_type": "execute_result"
    }
   ],
   "source": [
    "metrics.accuracy_score( test_y, tree_predict )"
   ]
  },
  {
   "cell_type": "code",
   "execution_count": 39,
   "metadata": {
    "collapsed": true
   },
   "outputs": [],
   "source": [
    "tree_cm = metrics.confusion_matrix( test_y, tree_predict )"
   ]
  },
  {
   "cell_type": "code",
   "execution_count": 40,
   "metadata": {
    "collapsed": true
   },
   "outputs": [],
   "source": [
    "import matplotlib.pyplot as plt\n",
    "%matplotlib inline"
   ]
  },
  {
   "cell_type": "code",
   "execution_count": 41,
   "metadata": {
    "collapsed": false
   },
   "outputs": [],
   "source": [
    "# sn.heatmap(tree_cm, annot=True,  fmt='.2f', xticklabels = [\"Sales Target\", \"Miss\"] , yticklabels = [\"Sales Target\", \"Miss\"] )\n",
    "# plt.ylabel('True label')\n",
    "# plt.xlabel('Predicted label')"
   ]
  },
  {
   "cell_type": "markdown",
   "metadata": {},
   "source": [
    "I had to install graphviz and I did so from here (pulled down files and did the install) - http://www.graphviz.org/Download_macos.php"
   ]
  },
  {
   "cell_type": "markdown",
   "metadata": {},
   "source": [
    "I also needed $ pip install pydotplus but did that previously & the notebook needs a restart"
   ]
  },
  {
   "cell_type": "code",
   "execution_count": 42,
   "metadata": {
    "collapsed": false
   },
   "outputs": [],
   "source": [
    "export_graphviz( clf_tree,\n",
    "                #out_file = \"chd_tree.odt\",\n",
    "                out_file = \"model_tree.odt\",\n",
    "                feature_names = train_X.columns )"
   ]
  },
  {
   "cell_type": "markdown",
   "metadata": {},
   "source": [
    "still getting an error - export graphviz is not defined - try shutting down the notebook and then firing back up vs just restarting the file and/or the kernel "
   ]
  },
  {
   "cell_type": "markdown",
   "metadata": {
    "collapsed": true
   },
   "source": [
    "installed the graphviz package and restarted the notebook conda install graphviz"
   ]
  },
  {
   "cell_type": "code",
   "execution_count": 43,
   "metadata": {
    "collapsed": true
   },
   "outputs": [],
   "source": [
    "import pydotplus as pdot\n",
    "\n",
    "#chd_tree_graph = pdot.graphviz.graph_from_dot_file( 'chd_tree.odt' )\n",
    "model_tree_graph = pdot.graphviz.graph_from_dot_file( 'model_tree.odt' )"
   ]
  },
  {
   "cell_type": "code",
   "execution_count": 44,
   "metadata": {
    "collapsed": false
   },
   "outputs": [
    {
     "data": {
      "text/plain": [
       "True"
      ]
     },
     "execution_count": 44,
     "metadata": {},
     "output_type": "execute_result"
    }
   ],
   "source": [
    "model_tree_graph.write_jpg( 'model_tree.jpg' )"
   ]
  },
  {
   "cell_type": "code",
   "execution_count": 45,
   "metadata": {
    "collapsed": false
   },
   "outputs": [
    {
     "data": {
      "image/jpeg": "[encoded data removed]",
      "text/plain": [
       "<IPython.core.display.Image object>"
      ]
     },
     "execution_count": 45,
     "metadata": {},
     "output_type": "execute_result"
    }
   ],
   "source": [
    "from IPython.display import Image\n",
    "Image(filename='model_tree.jpg')"
   ]
  },
  {
   "cell_type": "code",
   "execution_count": null,
   "metadata": {
    "collapsed": true
   },
   "outputs": [],
   "source": []
  }
 ],
 "metadata": {
  "anaconda-cloud": {},
  "kernelspec": {
   "display_name": "Python [Root]",
   "language": "python",
   "name": "Python [Root]"
  },
  "language_info": {
   "codemirror_mode": {
    "name": "ipython",
    "version": 3
   },
   "file_extension": ".py",
   "mimetype": "text/x-python",
   "name": "python",
   "nbconvert_exporter": "python",
   "pygments_lexer": "ipython3",
   "version": "3.5.2"
  }
 },
 "nbformat": 4,
 "nbformat_minor": 0
}
