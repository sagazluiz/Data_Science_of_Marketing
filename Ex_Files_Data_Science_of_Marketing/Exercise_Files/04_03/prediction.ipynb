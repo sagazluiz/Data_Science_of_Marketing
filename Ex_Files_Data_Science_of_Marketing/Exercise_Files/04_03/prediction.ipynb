{
 "cells": [
  {
   "cell_type": "code",
   "execution_count": 1,
   "metadata": {
    "collapsed": true
   },
   "outputs": [],
   "source": [
    "# Establish the functionality for our assessment by bringing in the right packages\n",
    "# Make sure to install these prior to mounting the packages \n",
    "# i.e. $ pip install pydotplus\n",
    "# & visit http://www.graphviz.org/Download_macos.php\n",
    "\n",
    "import pandas as pd\n",
    "import numpy as np\n",
    "from sklearn import metrics\n",
    "import matplotlib.pyplot as plt\n",
    "import pydotplus as pdot\n",
    "from sklearn.tree import DecisionTreeClassifier, export_graphviz, export\n",
    "from sklearn.cross_validation import train_test_split\n",
    "\n",
    "%matplotlib inline"
   ]
  },
  {
   "cell_type": "code",
   "execution_count": 2,
   "metadata": {
    "collapsed": false
   },
   "outputs": [],
   "source": [
    "# Connect to the data source\n",
    "myPredictionData = pd.read_csv(\"~/Desktop/Exercise_Files/04_03/prediction-py.csv\")"
   ]
  },
  {
   "cell_type": "code",
   "execution_count": 3,
   "metadata": {
    "collapsed": false
   },
   "outputs": [],
   "source": [
    "# Show column names for reference"
   ]
  },
  {
   "cell_type": "code",
   "execution_count": 4,
   "metadata": {
    "collapsed": false
   },
   "outputs": [],
   "source": [
    "# Set up our cross validation function\n",
    "\n",
    "feature_cols = ['capita', 'competition', 'weather', 'var1', 'var2', 'var3' ]\n",
    "\n",
    "train_X, test_X,  \\\n",
    "train_y, test_y = train_test_split( myPredictionData[feature_cols],\n",
    "                                    myPredictionData['sales_classification'])"
   ]
  },
  {
   "cell_type": "code",
   "execution_count": 5,
   "metadata": {
    "collapsed": false
   },
   "outputs": [],
   "source": [
    "# Set up our depth list for our tree branches\n",
    "\n",
    "depths_list = [2,3,4,5,6,7,8]\n",
    "\n",
    "for depth in depths_list:\n",
    "    clf_tree = DecisionTreeClassifier( max_depth = depth )\n",
    "    clf_tree.fit( train_X, train_y )"
   ]
  },
  {
   "cell_type": "code",
   "execution_count": 6,
   "metadata": {
    "collapsed": true
   },
   "outputs": [],
   "source": [
    "# Specify the number of branches for our tree"
   ]
  },
  {
   "cell_type": "code",
   "execution_count": 7,
   "metadata": {
    "collapsed": false
   },
   "outputs": [],
   "source": [
    "# Fit our training data to the x and to the y"
   ]
  },
  {
   "cell_type": "code",
   "execution_count": 8,
   "metadata": {
    "collapsed": true
   },
   "outputs": [],
   "source": [
    "# Apply our test data to our model "
   ]
  },
  {
   "cell_type": "code",
   "execution_count": 9,
   "metadata": {
    "collapsed": false
   },
   "outputs": [],
   "source": [
    "# Visualize our tree\n",
    "export_graphviz( clf_tree,\n",
    "                out_file = \"model_tree.odt\",\n",
    "                feature_names = train_X.columns )\n",
    "model_tree_graph = pdot.graphviz.graph_from_dot_file( 'model_tree.odt' )\n",
    "model_tree_graph.write_jpg( 'model_tree.jpg' )\n",
    "\n",
    "from IPython.display import Image\n",
    "Image(filename='model_tree.jpg')"
   ]
  }
 ],
 "metadata": {
  "anaconda-cloud": {},
  "kernelspec": {
   "display_name": "Python [conda root]",
   "language": "python",
   "name": "conda-root-py"
  },
  "language_info": {
   "codemirror_mode": {
    "name": "ipython",
    "version": 3
   },
   "file_extension": ".py",
   "mimetype": "text/x-python",
   "name": "python",
   "nbconvert_exporter": "python",
   "pygments_lexer": "ipython3",
   "version": "3.5.2"
  }
 },
 "nbformat": 4,
 "nbformat_minor": 0
}
